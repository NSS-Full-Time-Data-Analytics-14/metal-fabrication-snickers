{
 "cells": [
  {
   "cell_type": "code",
   "execution_count": 16,
   "id": "c5d493b0-1771-4bcd-85b0-0157c72bea33",
   "metadata": {},
   "outputs": [],
   "source": [
    "import pandas as pd\n",
    "import seaborn as sns\n",
    "import matplotlib.pyplot as plt"
   ]
  },
  {
   "cell_type": "code",
   "execution_count": 17,
   "id": "cab928f7-d779-4028-9cfa-994fe2080bf3",
   "metadata": {},
   "outputs": [],
   "source": [
    "s = pd.read_excel('../data/shipments.xlsx')"
   ]
  },
  {
   "cell_type": "code",
   "execution_count": 18,
   "id": "925aa002-5d1d-457e-a2e6-39c0ea02acbe",
   "metadata": {},
   "outputs": [],
   "source": [
    "sl = pd.read_excel('../data/shipment_lines.xlsx')"
   ]
  },
  {
   "cell_type": "code",
   "execution_count": 19,
   "id": "1a94c505-d76d-4c5d-939d-f56c98d6a844",
   "metadata": {},
   "outputs": [],
   "source": [
    "po = pd.read_excel('../data/part_operations.xlsx')"
   ]
  },
  {
   "cell_type": "code",
   "execution_count": 20,
   "id": "f6de1163-1c1a-449c-9f24-e3f72adb3eda",
   "metadata": {},
   "outputs": [],
   "source": [
    "p = pd.read_excel('../data/parts.xlsx')"
   ]
  },
  {
   "cell_type": "code",
   "execution_count": 21,
   "id": "c5e40b7e-c44c-41ca-800c-b2e4d22230d9",
   "metadata": {},
   "outputs": [],
   "source": [
    "sol = pd.read_excel('../data/sales_order_lines.xlsx')"
   ]
  },
  {
   "cell_type": "code",
   "execution_count": 22,
   "id": "c7a1f936-9833-4d08-92d0-bd0963982146",
   "metadata": {},
   "outputs": [],
   "source": [
    "sojl = pd.read_excel('../data/sales_order_job_links.xlsx')"
   ]
  },
  {
   "cell_type": "code",
   "execution_count": 23,
   "id": "e36425ea-6a86-426e-87b6-963c80d6e4d3",
   "metadata": {},
   "outputs": [],
   "source": [
    "so = pd.read_csv('../data/sales_order.csv')"
   ]
  },
  {
   "cell_type": "code",
   "execution_count": 24,
   "id": "9014a6ad-94af-45c8-96a8-e789fd93e78c",
   "metadata": {},
   "outputs": [],
   "source": [
    "jo2024 = pd.read_excel('../data/job_operations_2024.xlsx')"
   ]
  },
  {
   "cell_type": "code",
   "execution_count": 25,
   "id": "60c1b0f8-4175-4929-9cfe-89b9af4a887e",
   "metadata": {},
   "outputs": [],
   "source": [
    "pa = pd.read_excel('../data/part_assemblies.xlsx')"
   ]
  },
  {
   "cell_type": "code",
   "execution_count": 26,
   "id": "d568e80c-9d31-4c6f-a23b-b1c6b618578d",
   "metadata": {},
   "outputs": [],
   "source": [
    "j = pd.read_excel('../data/jobs.xlsx')"
   ]
  },
  {
   "cell_type": "code",
   "execution_count": 27,
   "id": "1779d0a2-a792-4583-8780-298ef1c0a077",
   "metadata": {},
   "outputs": [
    {
     "data": {
      "text/html": [
       "<div>\n",
       "<style scoped>\n",
       "    .dataframe tbody tr th:only-of-type {\n",
       "        vertical-align: middle;\n",
       "    }\n",
       "\n",
       "    .dataframe tbody tr th {\n",
       "        vertical-align: top;\n",
       "    }\n",
       "\n",
       "    .dataframe thead th {\n",
       "        text-align: right;\n",
       "    }\n",
       "</style>\n",
       "<table border=\"1\" class=\"dataframe\">\n",
       "  <thead>\n",
       "    <tr style=\"text-align: right;\">\n",
       "      <th></th>\n",
       "      <th>smp_shipment_id</th>\n",
       "      <th>smp_plant_id</th>\n",
       "      <th>smp_ship_date</th>\n",
       "      <th>smp_customer_organization_id</th>\n",
       "      <th>smp_arinvoice_location_id</th>\n",
       "      <th>smp_arinvoice_contact_id</th>\n",
       "      <th>smp_ship_organization_id</th>\n",
       "      <th>smp_ship_location_id</th>\n",
       "      <th>smp_ship_contact_id</th>\n",
       "      <th>smp_shipping_method_id</th>\n",
       "      <th>...</th>\n",
       "      <th>smp_weight_total</th>\n",
       "      <th>smp_posted_to_gl</th>\n",
       "      <th>smp_posted_date</th>\n",
       "      <th>smp_reversal_entry</th>\n",
       "      <th>smp_reversed</th>\n",
       "      <th>smp_shipment_idnumber</th>\n",
       "      <th>smp_upsbilling_option</th>\n",
       "      <th>smp_fed_ex_billing_option</th>\n",
       "      <th>smp_created_by</th>\n",
       "      <th>smp_created_date</th>\n",
       "    </tr>\n",
       "  </thead>\n",
       "  <tbody>\n",
       "    <tr>\n",
       "      <th>0</th>\n",
       "      <td>37515</td>\n",
       "      <td>NaN</td>\n",
       "      <td>2023-01-03 09:06:33</td>\n",
       "      <td>M030-MORGO</td>\n",
       "      <td>NaN</td>\n",
       "      <td>KimHo</td>\n",
       "      <td>M030-MORGO</td>\n",
       "      <td>1</td>\n",
       "      <td>NaN</td>\n",
       "      <td>MWS-T</td>\n",
       "      <td>...</td>\n",
       "      <td>0.0</td>\n",
       "      <td>True</td>\n",
       "      <td>2023-01-03</td>\n",
       "      <td>False</td>\n",
       "      <td>False</td>\n",
       "      <td>NaN</td>\n",
       "      <td>NaN</td>\n",
       "      <td>NaN</td>\n",
       "      <td>shope</td>\n",
       "      <td>2023-01-03 09:06:33</td>\n",
       "    </tr>\n",
       "    <tr>\n",
       "      <th>1</th>\n",
       "      <td>37517</td>\n",
       "      <td>NaN</td>\n",
       "      <td>2023-01-03 09:08:29</td>\n",
       "      <td>M030-MORGO</td>\n",
       "      <td>NaN</td>\n",
       "      <td>KimHo</td>\n",
       "      <td>M030-MORGO</td>\n",
       "      <td>1</td>\n",
       "      <td>NaN</td>\n",
       "      <td>MWS-T</td>\n",
       "      <td>...</td>\n",
       "      <td>0.0</td>\n",
       "      <td>True</td>\n",
       "      <td>2023-01-03</td>\n",
       "      <td>False</td>\n",
       "      <td>False</td>\n",
       "      <td>NaN</td>\n",
       "      <td>NaN</td>\n",
       "      <td>NaN</td>\n",
       "      <td>shope</td>\n",
       "      <td>2023-01-03 09:08:29</td>\n",
       "    </tr>\n",
       "    <tr>\n",
       "      <th>2</th>\n",
       "      <td>37518</td>\n",
       "      <td>NaN</td>\n",
       "      <td>2023-01-03 09:10:26</td>\n",
       "      <td>M030-MORGO</td>\n",
       "      <td>NaN</td>\n",
       "      <td>KimHo</td>\n",
       "      <td>M030-MORGO</td>\n",
       "      <td>1</td>\n",
       "      <td>NaN</td>\n",
       "      <td>MWS-T</td>\n",
       "      <td>...</td>\n",
       "      <td>0.0</td>\n",
       "      <td>True</td>\n",
       "      <td>2023-01-03</td>\n",
       "      <td>False</td>\n",
       "      <td>False</td>\n",
       "      <td>NaN</td>\n",
       "      <td>NaN</td>\n",
       "      <td>NaN</td>\n",
       "      <td>shope</td>\n",
       "      <td>2023-01-03 09:10:26</td>\n",
       "    </tr>\n",
       "    <tr>\n",
       "      <th>3</th>\n",
       "      <td>37528</td>\n",
       "      <td>NaN</td>\n",
       "      <td>2023-01-03 09:16:05</td>\n",
       "      <td>M030-MORGO</td>\n",
       "      <td>NaN</td>\n",
       "      <td>KimHo</td>\n",
       "      <td>M030-MORGO</td>\n",
       "      <td>1</td>\n",
       "      <td>NaN</td>\n",
       "      <td>MWS-T</td>\n",
       "      <td>...</td>\n",
       "      <td>0.0</td>\n",
       "      <td>True</td>\n",
       "      <td>2023-01-03</td>\n",
       "      <td>False</td>\n",
       "      <td>False</td>\n",
       "      <td>NaN</td>\n",
       "      <td>NaN</td>\n",
       "      <td>NaN</td>\n",
       "      <td>shope</td>\n",
       "      <td>2023-01-03 09:16:05</td>\n",
       "    </tr>\n",
       "    <tr>\n",
       "      <th>4</th>\n",
       "      <td>37529</td>\n",
       "      <td>NaN</td>\n",
       "      <td>2023-01-03 09:16:37</td>\n",
       "      <td>M030-MORGO</td>\n",
       "      <td>NaN</td>\n",
       "      <td>KimHo</td>\n",
       "      <td>M030-MORGO</td>\n",
       "      <td>1</td>\n",
       "      <td>NaN</td>\n",
       "      <td>MWS-T</td>\n",
       "      <td>...</td>\n",
       "      <td>0.0</td>\n",
       "      <td>True</td>\n",
       "      <td>2023-01-03</td>\n",
       "      <td>False</td>\n",
       "      <td>False</td>\n",
       "      <td>NaN</td>\n",
       "      <td>NaN</td>\n",
       "      <td>NaN</td>\n",
       "      <td>shope</td>\n",
       "      <td>2023-01-03 09:16:37</td>\n",
       "    </tr>\n",
       "  </tbody>\n",
       "</table>\n",
       "<p>5 rows × 34 columns</p>\n",
       "</div>"
      ],
      "text/plain": [
       "   smp_shipment_id  smp_plant_id       smp_ship_date  \\\n",
       "0            37515           NaN 2023-01-03 09:06:33   \n",
       "1            37517           NaN 2023-01-03 09:08:29   \n",
       "2            37518           NaN 2023-01-03 09:10:26   \n",
       "3            37528           NaN 2023-01-03 09:16:05   \n",
       "4            37529           NaN 2023-01-03 09:16:37   \n",
       "\n",
       "  smp_customer_organization_id  smp_arinvoice_location_id  \\\n",
       "0                   M030-MORGO                        NaN   \n",
       "1                   M030-MORGO                        NaN   \n",
       "2                   M030-MORGO                        NaN   \n",
       "3                   M030-MORGO                        NaN   \n",
       "4                   M030-MORGO                        NaN   \n",
       "\n",
       "  smp_arinvoice_contact_id smp_ship_organization_id smp_ship_location_id  \\\n",
       "0                    KimHo               M030-MORGO                    1   \n",
       "1                    KimHo               M030-MORGO                    1   \n",
       "2                    KimHo               M030-MORGO                    1   \n",
       "3                    KimHo               M030-MORGO                    1   \n",
       "4                    KimHo               M030-MORGO                    1   \n",
       "\n",
       "  smp_ship_contact_id smp_shipping_method_id  ... smp_weight_total  \\\n",
       "0                 NaN                  MWS-T  ...              0.0   \n",
       "1                 NaN                  MWS-T  ...              0.0   \n",
       "2                 NaN                  MWS-T  ...              0.0   \n",
       "3                 NaN                  MWS-T  ...              0.0   \n",
       "4                 NaN                  MWS-T  ...              0.0   \n",
       "\n",
       "   smp_posted_to_gl  smp_posted_date  smp_reversal_entry  smp_reversed  \\\n",
       "0              True       2023-01-03               False         False   \n",
       "1              True       2023-01-03               False         False   \n",
       "2              True       2023-01-03               False         False   \n",
       "3              True       2023-01-03               False         False   \n",
       "4              True       2023-01-03               False         False   \n",
       "\n",
       "  smp_shipment_idnumber  smp_upsbilling_option  smp_fed_ex_billing_option  \\\n",
       "0                   NaN                    NaN                        NaN   \n",
       "1                   NaN                    NaN                        NaN   \n",
       "2                   NaN                    NaN                        NaN   \n",
       "3                   NaN                    NaN                        NaN   \n",
       "4                   NaN                    NaN                        NaN   \n",
       "\n",
       "  smp_created_by    smp_created_date  \n",
       "0          shope 2023-01-03 09:06:33  \n",
       "1          shope 2023-01-03 09:08:29  \n",
       "2          shope 2023-01-03 09:10:26  \n",
       "3          shope 2023-01-03 09:16:05  \n",
       "4          shope 2023-01-03 09:16:37  \n",
       "\n",
       "[5 rows x 34 columns]"
      ]
     },
     "execution_count": 27,
     "metadata": {},
     "output_type": "execute_result"
    }
   ],
   "source": [
    "s.head()"
   ]
  },
  {
   "cell_type": "code",
   "execution_count": 28,
   "id": "53c2abce-c9a4-4d17-9d73-b071b37a5cfa",
   "metadata": {},
   "outputs": [
    {
     "data": {
      "text/plain": [
       "Index(['smp_shipment_id', 'smp_plant_id', 'smp_ship_date',\n",
       "       'smp_customer_organization_id', 'smp_arinvoice_location_id',\n",
       "       'smp_arinvoice_contact_id', 'smp_ship_organization_id',\n",
       "       'smp_ship_location_id', 'smp_ship_contact_id', 'smp_shipping_method_id',\n",
       "       'smp_shipping_payment_type_id', 'smp_freight_charge',\n",
       "       'smp_freight_charge_foreign', 'smp_freight_total',\n",
       "       'smp_freight_total_foreign', 'smp_shipping_comments_text',\n",
       "       'smp_print_packing_slip', 'smp_print_labels', 'smp_tracking_number',\n",
       "       'smp_shipment_subtotal', 'smp_shipment_subtotal_foreign',\n",
       "       'smp_shipment_total', 'smp_shipment_total_foreign',\n",
       "       'smp_weight_subtotal', 'smp_weight_total', 'smp_posted_to_gl',\n",
       "       'smp_posted_date', 'smp_reversal_entry', 'smp_reversed',\n",
       "       'smp_shipment_idnumber', 'smp_upsbilling_option',\n",
       "       'smp_fed_ex_billing_option', 'smp_created_by', 'smp_created_date'],\n",
       "      dtype='object')"
      ]
     },
     "execution_count": 28,
     "metadata": {},
     "output_type": "execute_result"
    }
   ],
   "source": [
    "s.columns"
   ]
  },
  {
   "cell_type": "code",
   "execution_count": 29,
   "id": "70ad34d0-478c-4ae1-8f39-8e964d1c285f",
   "metadata": {},
   "outputs": [
    {
     "data": {
      "text/plain": [
       "(12703, 34)"
      ]
     },
     "execution_count": 29,
     "metadata": {},
     "output_type": "execute_result"
    }
   ],
   "source": [
    "s.shape"
   ]
  },
  {
   "cell_type": "code",
   "execution_count": 30,
   "id": "d7d9c4fd-1306-4542-b680-01a2a9129903",
   "metadata": {},
   "outputs": [],
   "source": [
    "s['month']=s['smp_ship_date'].dt.month"
   ]
  },
  {
   "cell_type": "code",
   "execution_count": 31,
   "id": "089d41eb-29ba-49ba-964b-44c7e09a6d4d",
   "metadata": {},
   "outputs": [],
   "source": [
    "import calendar\n",
    "s['month'] = s['month'].apply(lambda x: calendar.month_abbr[x])"
   ]
  },
  {
   "cell_type": "code",
   "execution_count": 32,
   "id": "8eaf9795-36a9-49ab-9428-76a3b92775c3",
   "metadata": {},
   "outputs": [],
   "source": [
    "s['week']=s['smp_ship_date'].dt.isocalendar().week"
   ]
  },
  {
   "cell_type": "code",
   "execution_count": 33,
   "id": "82c4e04d-1bf0-4222-9e79-156419575598",
   "metadata": {},
   "outputs": [
    {
     "data": {
      "text/plain": [
       "month\n",
       "Oct    1342\n",
       "Aug    1294\n",
       "Mar    1279\n",
       "May    1240\n",
       "Jan    1151\n",
       "Apr    1150\n",
       "Sep    1129\n",
       "Jul    1096\n",
       "Feb    1055\n",
       "Jun    1043\n",
       "Nov     629\n",
       "Dec     295\n",
       "Name: count, dtype: int64"
      ]
     },
     "execution_count": 33,
     "metadata": {},
     "output_type": "execute_result"
    }
   ],
   "source": [
    "s['month'].value_counts()"
   ]
  },
  {
   "cell_type": "code",
   "execution_count": 34,
   "id": "230f9268-b75a-4e06-80ca-88d359906f55",
   "metadata": {},
   "outputs": [],
   "source": [
    "Months = ['Jan', 'Feb', 'Mar', 'Apr', 'May', 'Jun', 'Jul', 'Aug', 'Sep', 'Oct', 'Nov', 'Dec']"
   ]
  },
  {
   "cell_type": "code",
   "execution_count": 35,
   "id": "09f9eff6-5873-4bbb-b0bd-ca3997d310cc",
   "metadata": {},
   "outputs": [
    {
     "data": {
      "text/plain": [
       "Text(0, 0.5, 'Shipment Count')"
      ]
     },
     "execution_count": 35,
     "metadata": {},
     "output_type": "execute_result"
    },
    {
     "data": {
      "image/png": "[encoded data removed]",
      "text/plain": [
       "<Figure size 1500x800 with 1 Axes>"
      ]
     },
     "metadata": {},
     "output_type": "display_data"
    }
   ],
   "source": [
    "plt.figure(figsize=(15,8))\n",
    "\n",
    "sns.countplot(x='week', data=s, color='green')\n",
    "plt.title('Shipments by Week')\n",
    "plt.ylabel('Shipment Count')"
   ]
  },
  {
   "cell_type": "markdown",
   "id": "c0ffbd0d-137e-4e7a-b994-825102456ea5",
   "metadata": {},
   "source": [
    "decrease through May and June, \n",
    "also decrease through August\n",
    "\n",
    "\n",
    "\n",
    "Week 47 =Sunday, November 20, 2023 \n",
    "to Saturday, November 63, 203, Thanksgiving! \n",
    "no.1 = March 13 to March 19, 2023\n",
    "no.2 = September 18 to September 24, 2023\n",
    "no.3 = July 10 to July 16, 2023\n",
    "4"
   ]
  },
  {
   "cell_type": "code",
   "execution_count": 37,
   "id": "2073777f-00be-4484-8b6e-64cfde52229e",
   "metadata": {},
   "outputs": [
    {
     "name": "stderr",
     "output_type": "stream",
     "text": [
      "C:\\Users\\graft\\AppData\\Local\\Temp\\ipykernel_8732\\1386816224.py:2: FutureWarning: \n",
      "\n",
      "Passing `palette` without assigning `hue` is deprecated and will be removed in v0.14.0. Assign the `x` variable to `hue` and set `legend=False` for the same effect.\n",
      "\n",
      "  sns.countplot(x='month', data=s, order=Months, palette='Set1')\n"
     ]
    },
    {
     "data": {
      "text/plain": [
       "Text(0, 0.5, 'Shipment Count')"
      ]
     },
     "execution_count": 37,
     "metadata": {},
     "output_type": "execute_result"
    },
    {
     "data": {
      "image/png": "[encoded data removed]",
      "text/plain": [
       "<Figure size 1500x800 with 1 Axes>"
      ]
     },
     "metadata": {},
     "output_type": "display_data"
    }
   ],
   "source": [
    "plt.figure(figsize=(15,8))\n",
    "sns.countplot(x='month', data=s, order=Months, palette='Set1')\n",
    "plt.title('Shipments by Month')\n",
    "plt.ylabel('Shipment Count')"
   ]
  },
  {
   "cell_type": "code",
   "execution_count": 38,
   "id": "d8b7a432-9a85-412f-96d3-bd552c4326e1",
   "metadata": {},
   "outputs": [
    {
     "data": {
      "text/plain": [
       "Index(['smp_shipment_id', 'smp_plant_id', 'smp_ship_date',\n",
       "       'smp_customer_organization_id', 'smp_arinvoice_location_id',\n",
       "       'smp_arinvoice_contact_id', 'smp_ship_organization_id',\n",
       "       'smp_ship_location_id', 'smp_ship_contact_id', 'smp_shipping_method_id',\n",
       "       'smp_shipping_payment_type_id', 'smp_freight_charge',\n",
       "       'smp_freight_charge_foreign', 'smp_freight_total',\n",
       "       'smp_freight_total_foreign', 'smp_shipping_comments_text',\n",
       "       'smp_print_packing_slip', 'smp_print_labels', 'smp_tracking_number',\n",
       "       'smp_shipment_subtotal', 'smp_shipment_subtotal_foreign',\n",
       "       'smp_shipment_total', 'smp_shipment_total_foreign',\n",
       "       'smp_weight_subtotal', 'smp_weight_total', 'smp_posted_to_gl',\n",
       "       'smp_posted_date', 'smp_reversal_entry', 'smp_reversed',\n",
       "       'smp_shipment_idnumber', 'smp_upsbilling_option',\n",
       "       'smp_fed_ex_billing_option', 'smp_created_by', 'smp_created_date',\n",
       "       'month', 'week'],\n",
       "      dtype='object')"
      ]
     },
     "execution_count": 38,
     "metadata": {},
     "output_type": "execute_result"
    }
   ],
   "source": [
    "s.columns"
   ]
  },
  {
   "cell_type": "code",
   "execution_count": 39,
   "id": "86ea5b8b-5ed5-42d9-9c90-6ff207de1263",
   "metadata": {},
   "outputs": [
    {
     "data": {
      "text/plain": [
       "Index(['jmp_job_id', 'jmp_plant_id', 'jmp_production_due_date',\n",
       "       'jmp_customer_organization_id', 'jmp_job_date', 'jmp_part_id',\n",
       "       'jmp_part_revision_id', 'jmp_part_ware_house_location_id',\n",
       "       'jmp_part_bin_id', 'jmp_part_short_description',\n",
       "       'jmp_part_long_description_text', 'jmp_order_quantity',\n",
       "       'jmp_inventory_quantity', 'jmp_production_quantity',\n",
       "       'jmp_scheduled_start_date', 'jmp_scheduled_start_hour',\n",
       "       'jmp_scheduled_due_date', 'jmp_scheduled_due_hour',\n",
       "       'jmp_time_and_material', 'jmp_planning_complete',\n",
       "       'jmp_planner_employee_id', 'jmp_schedule_complete',\n",
       "       'jmp_released_to_floor', 'jmp_on_hold', 'jmp_ready_to_print',\n",
       "       'jmp_production_complete', 'jmp_quantity_completed',\n",
       "       'jmp_completed_date', 'jmp_quantity_shipped',\n",
       "       'jmp_quantity_received_to_inventory', 'jmp_source_method_id',\n",
       "       'jmp_source_revision_id', 'jmp_production_notes_text', 'jmp_documents',\n",
       "       'jmp_closed', 'jmp_closed_date', 'jmp_ship_organization_id',\n",
       "       'jmp_ship_location_id', 'jmp_created_by', 'jmp_created_date',\n",
       "       'ujmp_pfmrelease_date', 'ujmp_hold_reason', 'ujmp_hold_owner',\n",
       "       'ujmp_bomvalidated', 'ujmp_nest_name', 'ujmp_qchold',\n",
       "       'ujmp_qchold_dept', 'ujmp_first_run'],\n",
       "      dtype='object')"
      ]
     },
     "execution_count": 39,
     "metadata": {},
     "output_type": "execute_result"
    }
   ],
   "source": [
    "j.columns"
   ]
  },
  {
   "cell_type": "code",
   "execution_count": 40,
   "id": "e0c30e44-34d6-45e6-ad63-55fdc9dd694a",
   "metadata": {},
   "outputs": [],
   "source": [
    "q4 = j[['jmp_production_due_date','jmp_completed_date', 'jmp_part_id']]"
   ]
  },
  {
   "cell_type": "code",
   "execution_count": 41,
   "id": "2e0f96a6-93b9-4b3a-88e1-d776c5e56f16",
   "metadata": {},
   "outputs": [
    {
     "data": {
      "text/html": [
       "<div>\n",
       "<style scoped>\n",
       "    .dataframe tbody tr th:only-of-type {\n",
       "        vertical-align: middle;\n",
       "    }\n",
       "\n",
       "    .dataframe tbody tr th {\n",
       "        vertical-align: top;\n",
       "    }\n",
       "\n",
       "    .dataframe thead th {\n",
       "        text-align: right;\n",
       "    }\n",
       "</style>\n",
       "<table border=\"1\" class=\"dataframe\">\n",
       "  <thead>\n",
       "    <tr style=\"text-align: right;\">\n",
       "      <th></th>\n",
       "      <th>jmp_job_id</th>\n",
       "      <th>jmp_plant_id</th>\n",
       "      <th>jmp_production_due_date</th>\n",
       "      <th>jmp_customer_organization_id</th>\n",
       "      <th>jmp_job_date</th>\n",
       "      <th>jmp_part_id</th>\n",
       "      <th>jmp_part_revision_id</th>\n",
       "      <th>jmp_part_ware_house_location_id</th>\n",
       "      <th>jmp_part_bin_id</th>\n",
       "      <th>jmp_part_short_description</th>\n",
       "      <th>...</th>\n",
       "      <th>jmp_created_by</th>\n",
       "      <th>jmp_created_date</th>\n",
       "      <th>ujmp_pfmrelease_date</th>\n",
       "      <th>ujmp_hold_reason</th>\n",
       "      <th>ujmp_hold_owner</th>\n",
       "      <th>ujmp_bomvalidated</th>\n",
       "      <th>ujmp_nest_name</th>\n",
       "      <th>ujmp_qchold</th>\n",
       "      <th>ujmp_qchold_dept</th>\n",
       "      <th>ujmp_first_run</th>\n",
       "    </tr>\n",
       "  </thead>\n",
       "  <tbody>\n",
       "    <tr>\n",
       "      <th>0</th>\n",
       "      <td>28338-0001-001</td>\n",
       "      <td>NaN</td>\n",
       "      <td>2023-03-09</td>\n",
       "      <td>M030-MORGO</td>\n",
       "      <td>2023-02-10</td>\n",
       "      <td>M030-0350</td>\n",
       "      <td>H</td>\n",
       "      <td>CHATT</td>\n",
       "      <td>BIN A</td>\n",
       "      <td>177041405 DOOR POCKET PANEL RH (*CUST SUPP MAT*)</td>\n",
       "      <td>...</td>\n",
       "      <td>bsinclair</td>\n",
       "      <td>2023-02-10 15:55:23</td>\n",
       "      <td>2023-03-06 11:23:24</td>\n",
       "      <td>NaN</td>\n",
       "      <td>0</td>\n",
       "      <td>True</td>\n",
       "      <td>NaN</td>\n",
       "      <td>False</td>\n",
       "      <td>0</td>\n",
       "      <td>False</td>\n",
       "    </tr>\n",
       "    <tr>\n",
       "      <th>1</th>\n",
       "      <td>27622-0001-001</td>\n",
       "      <td>NaN</td>\n",
       "      <td>2023-02-07</td>\n",
       "      <td>M030-MORGO</td>\n",
       "      <td>2023-01-09</td>\n",
       "      <td>M030-0350</td>\n",
       "      <td>H</td>\n",
       "      <td>CHATT</td>\n",
       "      <td>BIN A</td>\n",
       "      <td>177041405 DOOR POCKET PANEL RH (*CUST SUPP MAT*)</td>\n",
       "      <td>...</td>\n",
       "      <td>bsinclair</td>\n",
       "      <td>2023-01-09 15:05:29</td>\n",
       "      <td>2023-01-31 20:48:55</td>\n",
       "      <td>NaN</td>\n",
       "      <td>0</td>\n",
       "      <td>True</td>\n",
       "      <td>NaN</td>\n",
       "      <td>False</td>\n",
       "      <td>0</td>\n",
       "      <td>False</td>\n",
       "    </tr>\n",
       "    <tr>\n",
       "      <th>2</th>\n",
       "      <td>27652-0001-001</td>\n",
       "      <td>NaN</td>\n",
       "      <td>2023-02-07</td>\n",
       "      <td>M030-MORGO</td>\n",
       "      <td>2023-01-11</td>\n",
       "      <td>M030-0463</td>\n",
       "      <td>A</td>\n",
       "      <td>CHATT</td>\n",
       "      <td>BIN A</td>\n",
       "      <td>228053400 PNL BK AL.188 X 20.01 X 95 RH</td>\n",
       "      <td>...</td>\n",
       "      <td>bsinclair</td>\n",
       "      <td>2023-01-11 10:57:53</td>\n",
       "      <td>2023-02-01 21:50:24</td>\n",
       "      <td>NaN</td>\n",
       "      <td>0</td>\n",
       "      <td>True</td>\n",
       "      <td>NaN</td>\n",
       "      <td>False</td>\n",
       "      <td>0</td>\n",
       "      <td>False</td>\n",
       "    </tr>\n",
       "    <tr>\n",
       "      <th>3</th>\n",
       "      <td>27653-0001-001</td>\n",
       "      <td>NaN</td>\n",
       "      <td>2023-02-07</td>\n",
       "      <td>M030-MORGO</td>\n",
       "      <td>2023-01-11</td>\n",
       "      <td>M030-0382</td>\n",
       "      <td>REL</td>\n",
       "      <td>CHATT</td>\n",
       "      <td>BIN A</td>\n",
       "      <td>PROTO20094 BRKT LFT ASST LH</td>\n",
       "      <td>...</td>\n",
       "      <td>bsinclair</td>\n",
       "      <td>2023-01-11 10:59:23</td>\n",
       "      <td>2023-02-02 14:38:24</td>\n",
       "      <td>NaN</td>\n",
       "      <td>0</td>\n",
       "      <td>True</td>\n",
       "      <td>NaN</td>\n",
       "      <td>False</td>\n",
       "      <td>0</td>\n",
       "      <td>False</td>\n",
       "    </tr>\n",
       "    <tr>\n",
       "      <th>4</th>\n",
       "      <td>27654-0001-001</td>\n",
       "      <td>NaN</td>\n",
       "      <td>2023-02-07</td>\n",
       "      <td>M030-MORGO</td>\n",
       "      <td>2023-01-11</td>\n",
       "      <td>M030-0345</td>\n",
       "      <td>B</td>\n",
       "      <td>CHATT</td>\n",
       "      <td>BIN A</td>\n",
       "      <td>097016404 SUPT ANGLE HOOD LIFT RH UPS HOOD FCC...</td>\n",
       "      <td>...</td>\n",
       "      <td>bsinclair</td>\n",
       "      <td>2023-01-11 11:00:26</td>\n",
       "      <td>2023-02-02 16:17:24</td>\n",
       "      <td>NaN</td>\n",
       "      <td>0</td>\n",
       "      <td>True</td>\n",
       "      <td>NaN</td>\n",
       "      <td>False</td>\n",
       "      <td>0</td>\n",
       "      <td>False</td>\n",
       "    </tr>\n",
       "    <tr>\n",
       "      <th>...</th>\n",
       "      <td>...</td>\n",
       "      <td>...</td>\n",
       "      <td>...</td>\n",
       "      <td>...</td>\n",
       "      <td>...</td>\n",
       "      <td>...</td>\n",
       "      <td>...</td>\n",
       "      <td>...</td>\n",
       "      <td>...</td>\n",
       "      <td>...</td>\n",
       "      <td>...</td>\n",
       "      <td>...</td>\n",
       "      <td>...</td>\n",
       "      <td>...</td>\n",
       "      <td>...</td>\n",
       "      <td>...</td>\n",
       "      <td>...</td>\n",
       "      <td>...</td>\n",
       "      <td>...</td>\n",
       "      <td>...</td>\n",
       "      <td>...</td>\n",
       "    </tr>\n",
       "    <tr>\n",
       "      <th>14810</th>\n",
       "      <td>31256-0001-001</td>\n",
       "      <td>NaN</td>\n",
       "      <td>2023-09-05</td>\n",
       "      <td>M030-MORGO</td>\n",
       "      <td>2023-08-09</td>\n",
       "      <td>M030-0254</td>\n",
       "      <td>E</td>\n",
       "      <td>CHATT</td>\n",
       "      <td>BIN A</td>\n",
       "      <td>005774400 ANG AL MTG .125 X 6.81 X 107.12</td>\n",
       "      <td>...</td>\n",
       "      <td>bsinclair</td>\n",
       "      <td>2023-08-09 16:29:43</td>\n",
       "      <td>2023-08-29 21:53:24</td>\n",
       "      <td>NaN</td>\n",
       "      <td>0</td>\n",
       "      <td>True</td>\n",
       "      <td>NaN</td>\n",
       "      <td>False</td>\n",
       "      <td>0</td>\n",
       "      <td>False</td>\n",
       "    </tr>\n",
       "    <tr>\n",
       "      <th>14811</th>\n",
       "      <td>31259-0001-001</td>\n",
       "      <td>NaN</td>\n",
       "      <td>2023-09-04</td>\n",
       "      <td>M030-MORGO</td>\n",
       "      <td>2023-08-10</td>\n",
       "      <td>M030-0460</td>\n",
       "      <td>0</td>\n",
       "      <td>CHATT</td>\n",
       "      <td>BIN A</td>\n",
       "      <td>117032400 W/BX WRAPPER 44'' 88W FCC</td>\n",
       "      <td>...</td>\n",
       "      <td>bsinclair</td>\n",
       "      <td>2023-08-10 10:45:35</td>\n",
       "      <td>2023-08-29 19:04:12</td>\n",
       "      <td>NaN</td>\n",
       "      <td>0</td>\n",
       "      <td>True</td>\n",
       "      <td>NaN</td>\n",
       "      <td>False</td>\n",
       "      <td>0</td>\n",
       "      <td>False</td>\n",
       "    </tr>\n",
       "    <tr>\n",
       "      <th>14812</th>\n",
       "      <td>31261-0001-001</td>\n",
       "      <td>NaN</td>\n",
       "      <td>2023-09-05</td>\n",
       "      <td>M030-MORGO</td>\n",
       "      <td>2023-08-10</td>\n",
       "      <td>M030-0274</td>\n",
       "      <td>C</td>\n",
       "      <td>CHATT</td>\n",
       "      <td>BIN A</td>\n",
       "      <td>001710410 ROOF BOW</td>\n",
       "      <td>...</td>\n",
       "      <td>bsinclair</td>\n",
       "      <td>2023-08-10 10:50:05</td>\n",
       "      <td>2023-08-29 13:50:24</td>\n",
       "      <td>NaN</td>\n",
       "      <td>0</td>\n",
       "      <td>True</td>\n",
       "      <td>823230</td>\n",
       "      <td>False</td>\n",
       "      <td>0</td>\n",
       "      <td>False</td>\n",
       "    </tr>\n",
       "    <tr>\n",
       "      <th>14813</th>\n",
       "      <td>31309-0001-001</td>\n",
       "      <td>NaN</td>\n",
       "      <td>2023-09-05</td>\n",
       "      <td>M030-MORGO</td>\n",
       "      <td>2023-08-14</td>\n",
       "      <td>M030-0203</td>\n",
       "      <td>D</td>\n",
       "      <td>CHATT</td>\n",
       "      <td>BIN A</td>\n",
       "      <td>087032404 WHEEL BX END PANEL LH</td>\n",
       "      <td>...</td>\n",
       "      <td>bsinclair</td>\n",
       "      <td>2023-08-14 11:57:59</td>\n",
       "      <td>2023-08-30 15:16:12</td>\n",
       "      <td>NaN</td>\n",
       "      <td>0</td>\n",
       "      <td>True</td>\n",
       "      <td>NaN</td>\n",
       "      <td>False</td>\n",
       "      <td>0</td>\n",
       "      <td>False</td>\n",
       "    </tr>\n",
       "    <tr>\n",
       "      <th>14814</th>\n",
       "      <td>31310-0001-001</td>\n",
       "      <td>NaN</td>\n",
       "      <td>2023-09-05</td>\n",
       "      <td>M030-MORGO</td>\n",
       "      <td>2023-08-14</td>\n",
       "      <td>M030-0204</td>\n",
       "      <td>D</td>\n",
       "      <td>CHATT</td>\n",
       "      <td>BIN A</td>\n",
       "      <td>087032405 WHEEL BX END PANEL RH</td>\n",
       "      <td>...</td>\n",
       "      <td>bsinclair</td>\n",
       "      <td>2023-08-14 11:59:53</td>\n",
       "      <td>2023-08-30 15:16:12</td>\n",
       "      <td>NaN</td>\n",
       "      <td>0</td>\n",
       "      <td>True</td>\n",
       "      <td>NaN</td>\n",
       "      <td>False</td>\n",
       "      <td>0</td>\n",
       "      <td>False</td>\n",
       "    </tr>\n",
       "  </tbody>\n",
       "</table>\n",
       "<p>14815 rows × 48 columns</p>\n",
       "</div>"
      ],
      "text/plain": [
       "           jmp_job_id  jmp_plant_id jmp_production_due_date  \\\n",
       "0      28338-0001-001           NaN              2023-03-09   \n",
       "1      27622-0001-001           NaN              2023-02-07   \n",
       "2      27652-0001-001           NaN              2023-02-07   \n",
       "3      27653-0001-001           NaN              2023-02-07   \n",
       "4      27654-0001-001           NaN              2023-02-07   \n",
       "...               ...           ...                     ...   \n",
       "14810  31256-0001-001           NaN              2023-09-05   \n",
       "14811  31259-0001-001           NaN              2023-09-04   \n",
       "14812  31261-0001-001           NaN              2023-09-05   \n",
       "14813  31309-0001-001           NaN              2023-09-05   \n",
       "14814  31310-0001-001           NaN              2023-09-05   \n",
       "\n",
       "      jmp_customer_organization_id jmp_job_date jmp_part_id  \\\n",
       "0                       M030-MORGO   2023-02-10   M030-0350   \n",
       "1                       M030-MORGO   2023-01-09   M030-0350   \n",
       "2                       M030-MORGO   2023-01-11   M030-0463   \n",
       "3                       M030-MORGO   2023-01-11   M030-0382   \n",
       "4                       M030-MORGO   2023-01-11   M030-0345   \n",
       "...                            ...          ...         ...   \n",
       "14810                   M030-MORGO   2023-08-09   M030-0254   \n",
       "14811                   M030-MORGO   2023-08-10   M030-0460   \n",
       "14812                   M030-MORGO   2023-08-10   M030-0274   \n",
       "14813                   M030-MORGO   2023-08-14   M030-0203   \n",
       "14814                   M030-MORGO   2023-08-14   M030-0204   \n",
       "\n",
       "      jmp_part_revision_id jmp_part_ware_house_location_id jmp_part_bin_id  \\\n",
       "0                        H                           CHATT           BIN A   \n",
       "1                        H                           CHATT           BIN A   \n",
       "2                        A                           CHATT           BIN A   \n",
       "3                      REL                           CHATT           BIN A   \n",
       "4                        B                           CHATT           BIN A   \n",
       "...                    ...                             ...             ...   \n",
       "14810                    E                           CHATT           BIN A   \n",
       "14811                    0                           CHATT           BIN A   \n",
       "14812                    C                           CHATT           BIN A   \n",
       "14813                    D                           CHATT           BIN A   \n",
       "14814                    D                           CHATT           BIN A   \n",
       "\n",
       "                              jmp_part_short_description  ... jmp_created_by  \\\n",
       "0       177041405 DOOR POCKET PANEL RH (*CUST SUPP MAT*)  ...      bsinclair   \n",
       "1       177041405 DOOR POCKET PANEL RH (*CUST SUPP MAT*)  ...      bsinclair   \n",
       "2                228053400 PNL BK AL.188 X 20.01 X 95 RH  ...      bsinclair   \n",
       "3                            PROTO20094 BRKT LFT ASST LH  ...      bsinclair   \n",
       "4      097016404 SUPT ANGLE HOOD LIFT RH UPS HOOD FCC...  ...      bsinclair   \n",
       "...                                                  ...  ...            ...   \n",
       "14810          005774400 ANG AL MTG .125 X 6.81 X 107.12  ...      bsinclair   \n",
       "14811                117032400 W/BX WRAPPER 44'' 88W FCC  ...      bsinclair   \n",
       "14812                                 001710410 ROOF BOW  ...      bsinclair   \n",
       "14813                    087032404 WHEEL BX END PANEL LH  ...      bsinclair   \n",
       "14814                    087032405 WHEEL BX END PANEL RH  ...      bsinclair   \n",
       "\n",
       "         jmp_created_date  ujmp_pfmrelease_date  ujmp_hold_reason  \\\n",
       "0     2023-02-10 15:55:23   2023-03-06 11:23:24               NaN   \n",
       "1     2023-01-09 15:05:29   2023-01-31 20:48:55               NaN   \n",
       "2     2023-01-11 10:57:53   2023-02-01 21:50:24               NaN   \n",
       "3     2023-01-11 10:59:23   2023-02-02 14:38:24               NaN   \n",
       "4     2023-01-11 11:00:26   2023-02-02 16:17:24               NaN   \n",
       "...                   ...                   ...               ...   \n",
       "14810 2023-08-09 16:29:43   2023-08-29 21:53:24               NaN   \n",
       "14811 2023-08-10 10:45:35   2023-08-29 19:04:12               NaN   \n",
       "14812 2023-08-10 10:50:05   2023-08-29 13:50:24               NaN   \n",
       "14813 2023-08-14 11:57:59   2023-08-30 15:16:12               NaN   \n",
       "14814 2023-08-14 11:59:53   2023-08-30 15:16:12               NaN   \n",
       "\n",
       "      ujmp_hold_owner  ujmp_bomvalidated ujmp_nest_name  ujmp_qchold  \\\n",
       "0                   0               True            NaN        False   \n",
       "1                   0               True            NaN        False   \n",
       "2                   0               True            NaN        False   \n",
       "3                   0               True            NaN        False   \n",
       "4                   0               True            NaN        False   \n",
       "...               ...                ...            ...          ...   \n",
       "14810               0               True            NaN        False   \n",
       "14811               0               True            NaN        False   \n",
       "14812               0               True         823230        False   \n",
       "14813               0               True            NaN        False   \n",
       "14814               0               True            NaN        False   \n",
       "\n",
       "       ujmp_qchold_dept  ujmp_first_run  \n",
       "0                     0           False  \n",
       "1                     0           False  \n",
       "2                     0           False  \n",
       "3                     0           False  \n",
       "4                     0           False  \n",
       "...                 ...             ...  \n",
       "14810                 0           False  \n",
       "14811                 0           False  \n",
       "14812                 0           False  \n",
       "14813                 0           False  \n",
       "14814                 0           False  \n",
       "\n",
       "[14815 rows x 48 columns]"
      ]
     },
     "execution_count": 41,
     "metadata": {},
     "output_type": "execute_result"
    }
   ],
   "source": [
    "j"
   ]
  },
  {
   "cell_type": "code",
   "execution_count": 42,
   "id": "7969304e-7aee-42b7-9df0-3bd6fb568d41",
   "metadata": {},
   "outputs": [],
   "source": [
    "q4b = p[['imp_part_id', 'imp_short_description']]"
   ]
  },
  {
   "cell_type": "code",
   "execution_count": 43,
   "id": "84e940f8-bcfc-4550-a00c-cc403120dda1",
   "metadata": {},
   "outputs": [],
   "source": [
    "q4= pd.merge(q4, q4b, left_on='jmp_part_id', right_on='imp_part_id')"
   ]
  },
  {
   "cell_type": "code",
   "execution_count": 44,
   "id": "955854b2-e96f-4cfe-b6e1-c7f31172ac55",
   "metadata": {},
   "outputs": [],
   "source": [
    "q4['on_time_delivery']= ((q4['jmp_production_due_date'] - q4['jmp_completed_date']).dt.total_seconds() / (24 * 3600)).round(2)\n"
   ]
  },
  {
   "cell_type": "code",
   "execution_count": 45,
   "id": "7e3a268b-446b-465d-828d-a9e42ffcd40e",
   "metadata": {},
   "outputs": [],
   "source": [
    "q4['month']=q4['jmp_production_due_date'].dt.month"
   ]
  },
  {
   "cell_type": "code",
   "execution_count": 46,
   "id": "443c7f8d-dd09-4307-a456-69573a7d3e57",
   "metadata": {},
   "outputs": [],
   "source": [
    "q4['week']=q4['jmp_production_due_date'].dt.isocalendar().week"
   ]
  },
  {
   "cell_type": "code",
   "execution_count": 47,
   "id": "3be9c663-72c8-47bf-80d5-5c0e400cdfee",
   "metadata": {},
   "outputs": [
    {
     "data": {
      "text/html": [
       "<div>\n",
       "<style scoped>\n",
       "    .dataframe tbody tr th:only-of-type {\n",
       "        vertical-align: middle;\n",
       "    }\n",
       "\n",
       "    .dataframe tbody tr th {\n",
       "        vertical-align: top;\n",
       "    }\n",
       "\n",
       "    .dataframe thead th {\n",
       "        text-align: right;\n",
       "    }\n",
       "</style>\n",
       "<table border=\"1\" class=\"dataframe\">\n",
       "  <thead>\n",
       "    <tr style=\"text-align: right;\">\n",
       "      <th></th>\n",
       "      <th>jmp_production_due_date</th>\n",
       "      <th>jmp_completed_date</th>\n",
       "      <th>jmp_part_id</th>\n",
       "      <th>imp_part_id</th>\n",
       "      <th>imp_short_description</th>\n",
       "      <th>on_time_delivery</th>\n",
       "      <th>month</th>\n",
       "      <th>week</th>\n",
       "    </tr>\n",
       "  </thead>\n",
       "  <tbody>\n",
       "    <tr>\n",
       "      <th>0</th>\n",
       "      <td>2023-03-09</td>\n",
       "      <td>2023-03-08 09:28:34</td>\n",
       "      <td>M030-0350</td>\n",
       "      <td>M030-0350</td>\n",
       "      <td>177041405 DOOR POCKET PANEL RH (*CUST SUPP MAT*)</td>\n",
       "      <td>0.61</td>\n",
       "      <td>3.0</td>\n",
       "      <td>10</td>\n",
       "    </tr>\n",
       "    <tr>\n",
       "      <th>1</th>\n",
       "      <td>2023-02-07</td>\n",
       "      <td>2023-02-04 07:39:37</td>\n",
       "      <td>M030-0350</td>\n",
       "      <td>M030-0350</td>\n",
       "      <td>177041405 DOOR POCKET PANEL RH (*CUST SUPP MAT*)</td>\n",
       "      <td>2.68</td>\n",
       "      <td>2.0</td>\n",
       "      <td>6</td>\n",
       "    </tr>\n",
       "    <tr>\n",
       "      <th>2</th>\n",
       "      <td>2023-02-07</td>\n",
       "      <td>2023-02-03 10:19:11</td>\n",
       "      <td>M030-0463</td>\n",
       "      <td>M030-0463</td>\n",
       "      <td>228053400 PNL BK AL.188 X 20.01 X 95 RH</td>\n",
       "      <td>3.57</td>\n",
       "      <td>2.0</td>\n",
       "      <td>6</td>\n",
       "    </tr>\n",
       "    <tr>\n",
       "      <th>3</th>\n",
       "      <td>2023-02-07</td>\n",
       "      <td>2023-01-17 07:11:25</td>\n",
       "      <td>M030-0382</td>\n",
       "      <td>M030-0382</td>\n",
       "      <td>217016401 PROTO20094 BRKT LFT ASST LH</td>\n",
       "      <td>20.70</td>\n",
       "      <td>2.0</td>\n",
       "      <td>6</td>\n",
       "    </tr>\n",
       "    <tr>\n",
       "      <th>4</th>\n",
       "      <td>2023-02-07</td>\n",
       "      <td>2023-01-17 07:01:02</td>\n",
       "      <td>M030-0345</td>\n",
       "      <td>M030-0345</td>\n",
       "      <td>097016404 SUPT ANGLE HOOD LIFT RH UPS HOOD FCC...</td>\n",
       "      <td>20.71</td>\n",
       "      <td>2.0</td>\n",
       "      <td>6</td>\n",
       "    </tr>\n",
       "    <tr>\n",
       "      <th>...</th>\n",
       "      <td>...</td>\n",
       "      <td>...</td>\n",
       "      <td>...</td>\n",
       "      <td>...</td>\n",
       "      <td>...</td>\n",
       "      <td>...</td>\n",
       "      <td>...</td>\n",
       "      <td>...</td>\n",
       "    </tr>\n",
       "    <tr>\n",
       "      <th>14810</th>\n",
       "      <td>2023-09-05</td>\n",
       "      <td>2023-08-30 00:00:00</td>\n",
       "      <td>M030-0254</td>\n",
       "      <td>M030-0254</td>\n",
       "      <td>005774400 ANG AL MTG .125 X 6.81 X 107.12</td>\n",
       "      <td>6.00</td>\n",
       "      <td>9.0</td>\n",
       "      <td>36</td>\n",
       "    </tr>\n",
       "    <tr>\n",
       "      <th>14811</th>\n",
       "      <td>2023-09-04</td>\n",
       "      <td>2023-08-22 09:43:04</td>\n",
       "      <td>M030-0460</td>\n",
       "      <td>M030-0460</td>\n",
       "      <td>117032400 W/BX WRAPPER 44'' 88W FCC</td>\n",
       "      <td>12.60</td>\n",
       "      <td>9.0</td>\n",
       "      <td>36</td>\n",
       "    </tr>\n",
       "    <tr>\n",
       "      <th>14812</th>\n",
       "      <td>2023-09-05</td>\n",
       "      <td>2023-08-30 00:00:00</td>\n",
       "      <td>M030-0274</td>\n",
       "      <td>M030-0274</td>\n",
       "      <td>001710410 ROOF BOW</td>\n",
       "      <td>6.00</td>\n",
       "      <td>9.0</td>\n",
       "      <td>36</td>\n",
       "    </tr>\n",
       "    <tr>\n",
       "      <th>14813</th>\n",
       "      <td>2023-09-05</td>\n",
       "      <td>2023-08-28 06:03:30</td>\n",
       "      <td>M030-0203</td>\n",
       "      <td>M030-0203</td>\n",
       "      <td>087032404 WHEEL BX END PANEL LH</td>\n",
       "      <td>7.75</td>\n",
       "      <td>9.0</td>\n",
       "      <td>36</td>\n",
       "    </tr>\n",
       "    <tr>\n",
       "      <th>14814</th>\n",
       "      <td>2023-09-05</td>\n",
       "      <td>2023-08-24 08:15:46</td>\n",
       "      <td>M030-0204</td>\n",
       "      <td>M030-0204</td>\n",
       "      <td>087032405 WHEEL BX END PANEL RH</td>\n",
       "      <td>11.66</td>\n",
       "      <td>9.0</td>\n",
       "      <td>36</td>\n",
       "    </tr>\n",
       "  </tbody>\n",
       "</table>\n",
       "<p>14815 rows × 8 columns</p>\n",
       "</div>"
      ],
      "text/plain": [
       "      jmp_production_due_date  jmp_completed_date jmp_part_id imp_part_id  \\\n",
       "0                  2023-03-09 2023-03-08 09:28:34   M030-0350   M030-0350   \n",
       "1                  2023-02-07 2023-02-04 07:39:37   M030-0350   M030-0350   \n",
       "2                  2023-02-07 2023-02-03 10:19:11   M030-0463   M030-0463   \n",
       "3                  2023-02-07 2023-01-17 07:11:25   M030-0382   M030-0382   \n",
       "4                  2023-02-07 2023-01-17 07:01:02   M030-0345   M030-0345   \n",
       "...                       ...                 ...         ...         ...   \n",
       "14810              2023-09-05 2023-08-30 00:00:00   M030-0254   M030-0254   \n",
       "14811              2023-09-04 2023-08-22 09:43:04   M030-0460   M030-0460   \n",
       "14812              2023-09-05 2023-08-30 00:00:00   M030-0274   M030-0274   \n",
       "14813              2023-09-05 2023-08-28 06:03:30   M030-0203   M030-0203   \n",
       "14814              2023-09-05 2023-08-24 08:15:46   M030-0204   M030-0204   \n",
       "\n",
       "                                   imp_short_description  on_time_delivery  \\\n",
       "0       177041405 DOOR POCKET PANEL RH (*CUST SUPP MAT*)              0.61   \n",
       "1       177041405 DOOR POCKET PANEL RH (*CUST SUPP MAT*)              2.68   \n",
       "2                228053400 PNL BK AL.188 X 20.01 X 95 RH              3.57   \n",
       "3                  217016401 PROTO20094 BRKT LFT ASST LH             20.70   \n",
       "4      097016404 SUPT ANGLE HOOD LIFT RH UPS HOOD FCC...             20.71   \n",
       "...                                                  ...               ...   \n",
       "14810          005774400 ANG AL MTG .125 X 6.81 X 107.12              6.00   \n",
       "14811                117032400 W/BX WRAPPER 44'' 88W FCC             12.60   \n",
       "14812                                 001710410 ROOF BOW              6.00   \n",
       "14813                    087032404 WHEEL BX END PANEL LH              7.75   \n",
       "14814                    087032405 WHEEL BX END PANEL RH             11.66   \n",
       "\n",
       "       month  week  \n",
       "0        3.0    10  \n",
       "1        2.0     6  \n",
       "2        2.0     6  \n",
       "3        2.0     6  \n",
       "4        2.0     6  \n",
       "...      ...   ...  \n",
       "14810    9.0    36  \n",
       "14811    9.0    36  \n",
       "14812    9.0    36  \n",
       "14813    9.0    36  \n",
       "14814    9.0    36  \n",
       "\n",
       "[14815 rows x 8 columns]"
      ]
     },
     "execution_count": 47,
     "metadata": {},
     "output_type": "execute_result"
    }
   ],
   "source": [
    "q4"
   ]
  },
  {
   "cell_type": "code",
   "execution_count": 48,
   "id": "c341f845-d7d1-4fdb-98a1-550e0c1d4756",
   "metadata": {},
   "outputs": [],
   "source": [
    "q4['month']=q4['month'].fillna(-1).astype(int)"
   ]
  },
  {
   "cell_type": "code",
   "execution_count": 49,
   "id": "b3287e73-e3a1-4f51-8f8e-29cf4038cf34",
   "metadata": {},
   "outputs": [],
   "source": [
    "q4['month'] = q4['month'].apply(lambda x: calendar.month_abbr[x])"
   ]
  },
  {
   "cell_type": "code",
   "execution_count": 50,
   "id": "b593953f-16b0-4c29-8c5f-c2e535a7c14d",
   "metadata": {},
   "outputs": [
    {
     "data": {
      "text/html": [
       "<div>\n",
       "<style scoped>\n",
       "    .dataframe tbody tr th:only-of-type {\n",
       "        vertical-align: middle;\n",
       "    }\n",
       "\n",
       "    .dataframe tbody tr th {\n",
       "        vertical-align: top;\n",
       "    }\n",
       "\n",
       "    .dataframe thead th {\n",
       "        text-align: right;\n",
       "    }\n",
       "</style>\n",
       "<table border=\"1\" class=\"dataframe\">\n",
       "  <thead>\n",
       "    <tr style=\"text-align: right;\">\n",
       "      <th></th>\n",
       "      <th>jmp_production_due_date</th>\n",
       "      <th>jmp_completed_date</th>\n",
       "      <th>jmp_part_id</th>\n",
       "      <th>imp_part_id</th>\n",
       "      <th>imp_short_description</th>\n",
       "      <th>on_time_delivery</th>\n",
       "      <th>month</th>\n",
       "      <th>week</th>\n",
       "    </tr>\n",
       "  </thead>\n",
       "  <tbody>\n",
       "    <tr>\n",
       "      <th>0</th>\n",
       "      <td>2023-03-09</td>\n",
       "      <td>2023-03-08 09:28:34</td>\n",
       "      <td>M030-0350</td>\n",
       "      <td>M030-0350</td>\n",
       "      <td>177041405 DOOR POCKET PANEL RH (*CUST SUPP MAT*)</td>\n",
       "      <td>0.61</td>\n",
       "      <td>Mar</td>\n",
       "      <td>10</td>\n",
       "    </tr>\n",
       "    <tr>\n",
       "      <th>1</th>\n",
       "      <td>2023-02-07</td>\n",
       "      <td>2023-02-04 07:39:37</td>\n",
       "      <td>M030-0350</td>\n",
       "      <td>M030-0350</td>\n",
       "      <td>177041405 DOOR POCKET PANEL RH (*CUST SUPP MAT*)</td>\n",
       "      <td>2.68</td>\n",
       "      <td>Feb</td>\n",
       "      <td>6</td>\n",
       "    </tr>\n",
       "    <tr>\n",
       "      <th>2</th>\n",
       "      <td>2023-02-07</td>\n",
       "      <td>2023-02-03 10:19:11</td>\n",
       "      <td>M030-0463</td>\n",
       "      <td>M030-0463</td>\n",
       "      <td>228053400 PNL BK AL.188 X 20.01 X 95 RH</td>\n",
       "      <td>3.57</td>\n",
       "      <td>Feb</td>\n",
       "      <td>6</td>\n",
       "    </tr>\n",
       "    <tr>\n",
       "      <th>3</th>\n",
       "      <td>2023-02-07</td>\n",
       "      <td>2023-01-17 07:11:25</td>\n",
       "      <td>M030-0382</td>\n",
       "      <td>M030-0382</td>\n",
       "      <td>217016401 PROTO20094 BRKT LFT ASST LH</td>\n",
       "      <td>20.70</td>\n",
       "      <td>Feb</td>\n",
       "      <td>6</td>\n",
       "    </tr>\n",
       "    <tr>\n",
       "      <th>4</th>\n",
       "      <td>2023-02-07</td>\n",
       "      <td>2023-01-17 07:01:02</td>\n",
       "      <td>M030-0345</td>\n",
       "      <td>M030-0345</td>\n",
       "      <td>097016404 SUPT ANGLE HOOD LIFT RH UPS HOOD FCC...</td>\n",
       "      <td>20.71</td>\n",
       "      <td>Feb</td>\n",
       "      <td>6</td>\n",
       "    </tr>\n",
       "    <tr>\n",
       "      <th>...</th>\n",
       "      <td>...</td>\n",
       "      <td>...</td>\n",
       "      <td>...</td>\n",
       "      <td>...</td>\n",
       "      <td>...</td>\n",
       "      <td>...</td>\n",
       "      <td>...</td>\n",
       "      <td>...</td>\n",
       "    </tr>\n",
       "    <tr>\n",
       "      <th>14810</th>\n",
       "      <td>2023-09-05</td>\n",
       "      <td>2023-08-30 00:00:00</td>\n",
       "      <td>M030-0254</td>\n",
       "      <td>M030-0254</td>\n",
       "      <td>005774400 ANG AL MTG .125 X 6.81 X 107.12</td>\n",
       "      <td>6.00</td>\n",
       "      <td>Sep</td>\n",
       "      <td>36</td>\n",
       "    </tr>\n",
       "    <tr>\n",
       "      <th>14811</th>\n",
       "      <td>2023-09-04</td>\n",
       "      <td>2023-08-22 09:43:04</td>\n",
       "      <td>M030-0460</td>\n",
       "      <td>M030-0460</td>\n",
       "      <td>117032400 W/BX WRAPPER 44'' 88W FCC</td>\n",
       "      <td>12.60</td>\n",
       "      <td>Sep</td>\n",
       "      <td>36</td>\n",
       "    </tr>\n",
       "    <tr>\n",
       "      <th>14812</th>\n",
       "      <td>2023-09-05</td>\n",
       "      <td>2023-08-30 00:00:00</td>\n",
       "      <td>M030-0274</td>\n",
       "      <td>M030-0274</td>\n",
       "      <td>001710410 ROOF BOW</td>\n",
       "      <td>6.00</td>\n",
       "      <td>Sep</td>\n",
       "      <td>36</td>\n",
       "    </tr>\n",
       "    <tr>\n",
       "      <th>14813</th>\n",
       "      <td>2023-09-05</td>\n",
       "      <td>2023-08-28 06:03:30</td>\n",
       "      <td>M030-0203</td>\n",
       "      <td>M030-0203</td>\n",
       "      <td>087032404 WHEEL BX END PANEL LH</td>\n",
       "      <td>7.75</td>\n",
       "      <td>Sep</td>\n",
       "      <td>36</td>\n",
       "    </tr>\n",
       "    <tr>\n",
       "      <th>14814</th>\n",
       "      <td>2023-09-05</td>\n",
       "      <td>2023-08-24 08:15:46</td>\n",
       "      <td>M030-0204</td>\n",
       "      <td>M030-0204</td>\n",
       "      <td>087032405 WHEEL BX END PANEL RH</td>\n",
       "      <td>11.66</td>\n",
       "      <td>Sep</td>\n",
       "      <td>36</td>\n",
       "    </tr>\n",
       "  </tbody>\n",
       "</table>\n",
       "<p>14815 rows × 8 columns</p>\n",
       "</div>"
      ],
      "text/plain": [
       "      jmp_production_due_date  jmp_completed_date jmp_part_id imp_part_id  \\\n",
       "0                  2023-03-09 2023-03-08 09:28:34   M030-0350   M030-0350   \n",
       "1                  2023-02-07 2023-02-04 07:39:37   M030-0350   M030-0350   \n",
       "2                  2023-02-07 2023-02-03 10:19:11   M030-0463   M030-0463   \n",
       "3                  2023-02-07 2023-01-17 07:11:25   M030-0382   M030-0382   \n",
       "4                  2023-02-07 2023-01-17 07:01:02   M030-0345   M030-0345   \n",
       "...                       ...                 ...         ...         ...   \n",
       "14810              2023-09-05 2023-08-30 00:00:00   M030-0254   M030-0254   \n",
       "14811              2023-09-04 2023-08-22 09:43:04   M030-0460   M030-0460   \n",
       "14812              2023-09-05 2023-08-30 00:00:00   M030-0274   M030-0274   \n",
       "14813              2023-09-05 2023-08-28 06:03:30   M030-0203   M030-0203   \n",
       "14814              2023-09-05 2023-08-24 08:15:46   M030-0204   M030-0204   \n",
       "\n",
       "                                   imp_short_description  on_time_delivery  \\\n",
       "0       177041405 DOOR POCKET PANEL RH (*CUST SUPP MAT*)              0.61   \n",
       "1       177041405 DOOR POCKET PANEL RH (*CUST SUPP MAT*)              2.68   \n",
       "2                228053400 PNL BK AL.188 X 20.01 X 95 RH              3.57   \n",
       "3                  217016401 PROTO20094 BRKT LFT ASST LH             20.70   \n",
       "4      097016404 SUPT ANGLE HOOD LIFT RH UPS HOOD FCC...             20.71   \n",
       "...                                                  ...               ...   \n",
       "14810          005774400 ANG AL MTG .125 X 6.81 X 107.12              6.00   \n",
       "14811                117032400 W/BX WRAPPER 44'' 88W FCC             12.60   \n",
       "14812                                 001710410 ROOF BOW              6.00   \n",
       "14813                    087032404 WHEEL BX END PANEL LH              7.75   \n",
       "14814                    087032405 WHEEL BX END PANEL RH             11.66   \n",
       "\n",
       "      month  week  \n",
       "0       Mar    10  \n",
       "1       Feb     6  \n",
       "2       Feb     6  \n",
       "3       Feb     6  \n",
       "4       Feb     6  \n",
       "...     ...   ...  \n",
       "14810   Sep    36  \n",
       "14811   Sep    36  \n",
       "14812   Sep    36  \n",
       "14813   Sep    36  \n",
       "14814   Sep    36  \n",
       "\n",
       "[14815 rows x 8 columns]"
      ]
     },
     "execution_count": 50,
     "metadata": {},
     "output_type": "execute_result"
    }
   ],
   "source": [
    "q4"
   ]
  },
  {
   "cell_type": "code",
   "execution_count": 51,
   "id": "dc8f15ff-ff7b-4e0d-914a-9af6c397eb26",
   "metadata": {},
   "outputs": [
    {
     "data": {
      "text/plain": [
       "Text(0, 0.5, 'On Time in Days')"
      ]
     },
     "execution_count": 51,
     "metadata": {},
     "output_type": "execute_result"
    },
    {
     "data": {
      "image/png": "[encoded data removed]",
      "text/plain": [
       "<Figure size 1500x800 with 1 Axes>"
      ]
     },
     "metadata": {},
     "output_type": "display_data"
    }
   ],
   "source": [
    "plt.figure(figsize=(15,8))\n",
    "\n",
    "sns.barplot(x='week', y= 'on_time_delivery', data=q4, color='green')\n",
    "plt.title('On Time Delivery by Week')\n",
    "plt.ylabel('On Time in Days')"
   ]
  },
  {
   "cell_type": "markdown",
   "id": "11ef50bd-b8e7-4b7c-bbd7-6dc21463c95c",
   "metadata": {},
   "source": [
    "delays through month of January, and orders ahead of schedule in the final week in December"
   ]
  },
  {
   "cell_type": "code",
   "execution_count": 53,
   "id": "e7ed7ce4-7006-488c-bbdd-da2d1c5672a7",
   "metadata": {},
   "outputs": [
    {
     "name": "stderr",
     "output_type": "stream",
     "text": [
      "C:\\Users\\graft\\AppData\\Local\\Temp\\ipykernel_8732\\3572252343.py:3: FutureWarning: \n",
      "\n",
      "Passing `palette` without assigning `hue` is deprecated and will be removed in v0.14.0. Assign the `x` variable to `hue` and set `legend=False` for the same effect.\n",
      "\n",
      "  sns.barplot(x='month', y= 'on_time_delivery', data=q4, order=Months, palette='Set1')\n"
     ]
    },
    {
     "data": {
      "text/plain": [
       "Text(0, 0.5, 'On Time in Days')"
      ]
     },
     "execution_count": 53,
     "metadata": {},
     "output_type": "execute_result"
    },
    {
     "data": {
      "image/png": "[encoded data removed]",
      "text/plain": [
       "<Figure size 1500x800 with 1 Axes>"
      ]
     },
     "metadata": {},
     "output_type": "display_data"
    }
   ],
   "source": [
    "plt.figure(figsize=(15,8))\n",
    "\n",
    "sns.barplot(x='month', y= 'on_time_delivery', data=q4, order=Months, palette='Set1')\n",
    "plt.title('On Time Delivery by Month')\n",
    "plt.ylabel('On Time in Days')"
   ]
  },
  {
   "cell_type": "code",
   "execution_count": 54,
   "id": "05591d67-8af5-49ae-b750-7b0ab8e02d60",
   "metadata": {},
   "outputs": [
    {
     "data": {
      "text/html": [
       "<div>\n",
       "<style scoped>\n",
       "    .dataframe tbody tr th:only-of-type {\n",
       "        vertical-align: middle;\n",
       "    }\n",
       "\n",
       "    .dataframe tbody tr th {\n",
       "        vertical-align: top;\n",
       "    }\n",
       "\n",
       "    .dataframe thead th {\n",
       "        text-align: right;\n",
       "    }\n",
       "</style>\n",
       "<table border=\"1\" class=\"dataframe\">\n",
       "  <thead>\n",
       "    <tr style=\"text-align: right;\">\n",
       "      <th></th>\n",
       "      <th>jmp_production_due_date</th>\n",
       "      <th>jmp_completed_date</th>\n",
       "      <th>jmp_part_id</th>\n",
       "      <th>imp_part_id</th>\n",
       "      <th>imp_short_description</th>\n",
       "      <th>on_time_delivery</th>\n",
       "      <th>month</th>\n",
       "      <th>week</th>\n",
       "    </tr>\n",
       "  </thead>\n",
       "  <tbody>\n",
       "    <tr>\n",
       "      <th>14</th>\n",
       "      <td>2023-02-10</td>\n",
       "      <td>2023-02-15 07:47:27</td>\n",
       "      <td>M030-0325</td>\n",
       "      <td>M030-0325</td>\n",
       "      <td>98760307 STFNR LWR .102X7.74X28.18 RH</td>\n",
       "      <td>-5.32</td>\n",
       "      <td>Feb</td>\n",
       "      <td>6</td>\n",
       "    </tr>\n",
       "    <tr>\n",
       "      <th>15</th>\n",
       "      <td>2023-02-16</td>\n",
       "      <td>2023-02-16 06:51:30</td>\n",
       "      <td>M030-0337</td>\n",
       "      <td>M030-0337</td>\n",
       "      <td>157050407 *CUST SUPPLIED MAT. .102 59X96 ALUM*</td>\n",
       "      <td>-0.29</td>\n",
       "      <td>Feb</td>\n",
       "      <td>7</td>\n",
       "    </tr>\n",
       "    <tr>\n",
       "      <th>18</th>\n",
       "      <td>2023-02-16</td>\n",
       "      <td>2023-02-16 06:06:36</td>\n",
       "      <td>M030-0340</td>\n",
       "      <td>M030-0340</td>\n",
       "      <td>157041409 *CUST SUPPLIED MAT. .102 59X96 ALUM*</td>\n",
       "      <td>-0.25</td>\n",
       "      <td>Feb</td>\n",
       "      <td>7</td>\n",
       "    </tr>\n",
       "    <tr>\n",
       "      <th>19</th>\n",
       "      <td>2023-02-16</td>\n",
       "      <td>2023-02-16 06:21:15</td>\n",
       "      <td>M030-0341</td>\n",
       "      <td>M030-0341</td>\n",
       "      <td>177005412 *CUST SUPPLIED MAT. .102 59X96 ALUM*</td>\n",
       "      <td>-0.26</td>\n",
       "      <td>Feb</td>\n",
       "      <td>7</td>\n",
       "    </tr>\n",
       "    <tr>\n",
       "      <th>20</th>\n",
       "      <td>2023-02-16</td>\n",
       "      <td>2023-02-16 06:21:54</td>\n",
       "      <td>M030-0342</td>\n",
       "      <td>M030-0342</td>\n",
       "      <td>177005411 *CUST SUPPLIED MAT. .102 59X96 ALUM*</td>\n",
       "      <td>-0.27</td>\n",
       "      <td>Feb</td>\n",
       "      <td>7</td>\n",
       "    </tr>\n",
       "    <tr>\n",
       "      <th>...</th>\n",
       "      <td>...</td>\n",
       "      <td>...</td>\n",
       "      <td>...</td>\n",
       "      <td>...</td>\n",
       "      <td>...</td>\n",
       "      <td>...</td>\n",
       "      <td>...</td>\n",
       "      <td>...</td>\n",
       "    </tr>\n",
       "    <tr>\n",
       "      <th>14783</th>\n",
       "      <td>2023-08-02</td>\n",
       "      <td>2023-08-16 15:10:13</td>\n",
       "      <td>M030-0004</td>\n",
       "      <td>M030-0004</td>\n",
       "      <td>137147404 GDE ANG STKR (PLATED PART)</td>\n",
       "      <td>-14.63</td>\n",
       "      <td>Aug</td>\n",
       "      <td>31</td>\n",
       "    </tr>\n",
       "    <tr>\n",
       "      <th>14788</th>\n",
       "      <td>2023-08-10</td>\n",
       "      <td>2023-08-10 13:08:09</td>\n",
       "      <td>M030-0400</td>\n",
       "      <td>M030-0400</td>\n",
       "      <td>208078401 C/P RR D/FLR</td>\n",
       "      <td>-0.55</td>\n",
       "      <td>Aug</td>\n",
       "      <td>32</td>\n",
       "    </tr>\n",
       "    <tr>\n",
       "      <th>14790</th>\n",
       "      <td>2023-08-09</td>\n",
       "      <td>2023-08-11 09:54:56</td>\n",
       "      <td>M030-0356</td>\n",
       "      <td>M030-0356</td>\n",
       "      <td>197147405 LINK LAT BHD (COATED PART)</td>\n",
       "      <td>-2.41</td>\n",
       "      <td>Aug</td>\n",
       "      <td>32</td>\n",
       "    </tr>\n",
       "    <tr>\n",
       "      <th>14804</th>\n",
       "      <td>2023-08-14</td>\n",
       "      <td>2023-08-16 15:08:39</td>\n",
       "      <td>M030-0003</td>\n",
       "      <td>M030-0003</td>\n",
       "      <td>137147403 SLD STKR SEE DOOR REAR (PLATED PART)</td>\n",
       "      <td>-2.63</td>\n",
       "      <td>Aug</td>\n",
       "      <td>33</td>\n",
       "    </tr>\n",
       "    <tr>\n",
       "      <th>14805</th>\n",
       "      <td>2023-08-16</td>\n",
       "      <td>2023-08-21 06:37:46</td>\n",
       "      <td>M030-0005</td>\n",
       "      <td>M030-0005</td>\n",
       "      <td>137147405 HSG STRKR RR (PLATED PART)</td>\n",
       "      <td>-5.28</td>\n",
       "      <td>Aug</td>\n",
       "      <td>33</td>\n",
       "    </tr>\n",
       "  </tbody>\n",
       "</table>\n",
       "<p>5524 rows × 8 columns</p>\n",
       "</div>"
      ],
      "text/plain": [
       "      jmp_production_due_date  jmp_completed_date jmp_part_id imp_part_id  \\\n",
       "14                 2023-02-10 2023-02-15 07:47:27   M030-0325   M030-0325   \n",
       "15                 2023-02-16 2023-02-16 06:51:30   M030-0337   M030-0337   \n",
       "18                 2023-02-16 2023-02-16 06:06:36   M030-0340   M030-0340   \n",
       "19                 2023-02-16 2023-02-16 06:21:15   M030-0341   M030-0341   \n",
       "20                 2023-02-16 2023-02-16 06:21:54   M030-0342   M030-0342   \n",
       "...                       ...                 ...         ...         ...   \n",
       "14783              2023-08-02 2023-08-16 15:10:13   M030-0004   M030-0004   \n",
       "14788              2023-08-10 2023-08-10 13:08:09   M030-0400   M030-0400   \n",
       "14790              2023-08-09 2023-08-11 09:54:56   M030-0356   M030-0356   \n",
       "14804              2023-08-14 2023-08-16 15:08:39   M030-0003   M030-0003   \n",
       "14805              2023-08-16 2023-08-21 06:37:46   M030-0005   M030-0005   \n",
       "\n",
       "                                imp_short_description  on_time_delivery month  \\\n",
       "14              98760307 STFNR LWR .102X7.74X28.18 RH             -5.32   Feb   \n",
       "15     157050407 *CUST SUPPLIED MAT. .102 59X96 ALUM*             -0.29   Feb   \n",
       "18     157041409 *CUST SUPPLIED MAT. .102 59X96 ALUM*             -0.25   Feb   \n",
       "19     177005412 *CUST SUPPLIED MAT. .102 59X96 ALUM*             -0.26   Feb   \n",
       "20     177005411 *CUST SUPPLIED MAT. .102 59X96 ALUM*             -0.27   Feb   \n",
       "...                                               ...               ...   ...   \n",
       "14783            137147404 GDE ANG STKR (PLATED PART)            -14.63   Aug   \n",
       "14788                          208078401 C/P RR D/FLR             -0.55   Aug   \n",
       "14790            197147405 LINK LAT BHD (COATED PART)             -2.41   Aug   \n",
       "14804  137147403 SLD STKR SEE DOOR REAR (PLATED PART)             -2.63   Aug   \n",
       "14805            137147405 HSG STRKR RR (PLATED PART)             -5.28   Aug   \n",
       "\n",
       "       week  \n",
       "14        6  \n",
       "15        7  \n",
       "18        7  \n",
       "19        7  \n",
       "20        7  \n",
       "...     ...  \n",
       "14783    31  \n",
       "14788    32  \n",
       "14790    32  \n",
       "14804    33  \n",
       "14805    33  \n",
       "\n",
       "[5524 rows x 8 columns]"
      ]
     },
     "execution_count": 54,
     "metadata": {},
     "output_type": "execute_result"
    }
   ],
   "source": [
    "q4.loc[q4['on_time_delivery'] < 0]"
   ]
  },
  {
   "cell_type": "code",
   "execution_count": 55,
   "id": "5d4c6aeb-045d-41c0-8211-22a5237f7f74",
   "metadata": {},
   "outputs": [],
   "source": [
    "delaylist= ['S025-0508', 'Y002-0605', 'Y002-0604','Y002-0631']"
   ]
  },
  {
   "cell_type": "code",
   "execution_count": 56,
   "id": "77881d59-f039-467b-873a-770a2acd0a7b",
   "metadata": {},
   "outputs": [],
   "source": [
    "part_delay=q4.loc[q4['imp_part_id'].isin(delaylist)]"
   ]
  },
  {
   "cell_type": "code",
   "execution_count": 57,
   "id": "2f7242ab-cb15-466d-8f2d-9e1dfe02be43",
   "metadata": {},
   "outputs": [
    {
     "name": "stderr",
     "output_type": "stream",
     "text": [
      "C:\\Users\\graft\\AppData\\Local\\Temp\\ipykernel_8732\\1136990170.py:1: SettingWithCopyWarning: \n",
      "A value is trying to be set on a copy of a slice from a DataFrame.\n",
      "Try using .loc[row_indexer,col_indexer] = value instead\n",
      "\n",
      "See the caveats in the documentation: https://pandas.pydata.org/pandas-docs/stable/user_guide/indexing.html#returning-a-view-versus-a-copy\n",
      "  part_delay['on_time_delivery']=part_delay['on_time_delivery'].abs()\n"
     ]
    }
   ],
   "source": [
    "part_delay['on_time_delivery']=part_delay['on_time_delivery'].abs()"
   ]
  },
  {
   "cell_type": "code",
   "execution_count": 58,
   "id": "1a4d9631-bed9-4d7c-b139-8b9df5342cfd",
   "metadata": {},
   "outputs": [
    {
     "data": {
      "text/plain": [
       "4"
      ]
     },
     "execution_count": 58,
     "metadata": {},
     "output_type": "execute_result"
    }
   ],
   "source": [
    "part_delay['imp_part_id'].nunique()"
   ]
  },
  {
   "cell_type": "code",
   "execution_count": 59,
   "id": "af1d7f92-5d9c-43dd-8b5e-b99184270c6d",
   "metadata": {},
   "outputs": [
    {
     "name": "stderr",
     "output_type": "stream",
     "text": [
      "C:\\Users\\graft\\AppData\\Local\\Temp\\ipykernel_8732\\1662164546.py:3: FutureWarning: \n",
      "\n",
      "Passing `palette` without assigning `hue` is deprecated and will be removed in v0.14.0. Assign the `x` variable to `hue` and set `legend=False` for the same effect.\n",
      "\n",
      "  sns.countplot(x='jmp_part_id', data=part_delay, palette='Set2')\n"
     ]
    },
    {
     "data": {
      "text/plain": [
       "Text(0, 0.5, 'Delay Count')"
      ]
     },
     "execution_count": 59,
     "metadata": {},
     "output_type": "execute_result"
    },
    {
     "data": {
      "image/png": "[encoded data removed]",
      "text/plain": [
       "<Figure size 1500x800 with 1 Axes>"
      ]
     },
     "metadata": {},
     "output_type": "display_data"
    }
   ],
   "source": [
    "plt.figure(figsize=(15,8))\n",
    "\n",
    "sns.countplot(x='jmp_part_id', data=part_delay, palette='Set2')\n",
    "plt.title('Highest Delays by Part')\n",
    "plt.ylabel('Delay Count')\n"
   ]
  },
  {
   "cell_type": "markdown",
   "id": "45b26d82-ab73-4912-9d30-07916fea660c",
   "metadata": {},
   "source": [
    "S025- 0508 = 1418-61455-3-12650-C FRAME (REAR)\t"
   ]
  },
  {
   "cell_type": "code",
   "execution_count": 61,
   "id": "dceff260-c5f8-4781-8102-1e4045965e76",
   "metadata": {},
   "outputs": [
    {
     "data": {
      "text/html": [
       "<div>\n",
       "<style scoped>\n",
       "    .dataframe tbody tr th:only-of-type {\n",
       "        vertical-align: middle;\n",
       "    }\n",
       "\n",
       "    .dataframe tbody tr th {\n",
       "        vertical-align: top;\n",
       "    }\n",
       "\n",
       "    .dataframe thead th {\n",
       "        text-align: right;\n",
       "    }\n",
       "</style>\n",
       "<table border=\"1\" class=\"dataframe\">\n",
       "  <thead>\n",
       "    <tr style=\"text-align: right;\">\n",
       "      <th></th>\n",
       "      <th>jmp_production_due_date</th>\n",
       "      <th>jmp_completed_date</th>\n",
       "      <th>jmp_part_id</th>\n",
       "      <th>imp_part_id</th>\n",
       "      <th>imp_short_description</th>\n",
       "      <th>on_time_delivery</th>\n",
       "      <th>month</th>\n",
       "      <th>week</th>\n",
       "    </tr>\n",
       "  </thead>\n",
       "  <tbody>\n",
       "    <tr>\n",
       "      <th>993</th>\n",
       "      <td>2023-05-22</td>\n",
       "      <td>2023-06-06 00:00:00</td>\n",
       "      <td>Y002-0631</td>\n",
       "      <td>Y002-0631</td>\n",
       "      <td>YT449800B-D-AO CUMMINS KIT 84SQFT</td>\n",
       "      <td>15.00</td>\n",
       "      <td>May</td>\n",
       "      <td>21</td>\n",
       "    </tr>\n",
       "    <tr>\n",
       "      <th>994</th>\n",
       "      <td>2023-06-12</td>\n",
       "      <td>2023-06-15 00:00:00</td>\n",
       "      <td>Y002-0631</td>\n",
       "      <td>Y002-0631</td>\n",
       "      <td>YT449800B-D-AO CUMMINS KIT 84SQFT</td>\n",
       "      <td>3.00</td>\n",
       "      <td>Jun</td>\n",
       "      <td>24</td>\n",
       "    </tr>\n",
       "    <tr>\n",
       "      <th>995</th>\n",
       "      <td>2023-07-31</td>\n",
       "      <td>2023-08-16 00:00:00</td>\n",
       "      <td>Y002-0605</td>\n",
       "      <td>Y002-0605</td>\n",
       "      <td>YT449800B-C-AO CUMMINS KIT 84 SQFT</td>\n",
       "      <td>16.00</td>\n",
       "      <td>Jul</td>\n",
       "      <td>31</td>\n",
       "    </tr>\n",
       "    <tr>\n",
       "      <th>1076</th>\n",
       "      <td>2023-07-31</td>\n",
       "      <td>2023-08-10 00:00:00</td>\n",
       "      <td>Y002-0631</td>\n",
       "      <td>Y002-0631</td>\n",
       "      <td>YT449800B-D-AO CUMMINS KIT 84SQFT</td>\n",
       "      <td>10.00</td>\n",
       "      <td>Jul</td>\n",
       "      <td>31</td>\n",
       "    </tr>\n",
       "    <tr>\n",
       "      <th>1110</th>\n",
       "      <td>2023-12-13</td>\n",
       "      <td>2023-12-14 00:00:00</td>\n",
       "      <td>Y002-0604</td>\n",
       "      <td>Y002-0604</td>\n",
       "      <td>YT449800B-B-AO CUMMINS KIT 84 SQFT</td>\n",
       "      <td>1.00</td>\n",
       "      <td>Dec</td>\n",
       "      <td>50</td>\n",
       "    </tr>\n",
       "    <tr>\n",
       "      <th>...</th>\n",
       "      <td>...</td>\n",
       "      <td>...</td>\n",
       "      <td>...</td>\n",
       "      <td>...</td>\n",
       "      <td>...</td>\n",
       "      <td>...</td>\n",
       "      <td>...</td>\n",
       "      <td>...</td>\n",
       "    </tr>\n",
       "    <tr>\n",
       "      <th>11662</th>\n",
       "      <td>2023-05-15</td>\n",
       "      <td>2023-06-06 00:00:00</td>\n",
       "      <td>S025-0508</td>\n",
       "      <td>S025-0508</td>\n",
       "      <td>1418-61455-3-12650-C FRAME (REAR)</td>\n",
       "      <td>22.00</td>\n",
       "      <td>May</td>\n",
       "      <td>20</td>\n",
       "    </tr>\n",
       "    <tr>\n",
       "      <th>11663</th>\n",
       "      <td>2023-05-22</td>\n",
       "      <td>2023-06-06 00:00:00</td>\n",
       "      <td>S025-0508</td>\n",
       "      <td>S025-0508</td>\n",
       "      <td>1418-61455-3-12650-C FRAME (REAR)</td>\n",
       "      <td>15.00</td>\n",
       "      <td>May</td>\n",
       "      <td>21</td>\n",
       "    </tr>\n",
       "    <tr>\n",
       "      <th>11664</th>\n",
       "      <td>2023-05-29</td>\n",
       "      <td>2023-06-12 00:00:00</td>\n",
       "      <td>S025-0508</td>\n",
       "      <td>S025-0508</td>\n",
       "      <td>1418-61455-3-12650-C FRAME (REAR)</td>\n",
       "      <td>14.00</td>\n",
       "      <td>May</td>\n",
       "      <td>22</td>\n",
       "    </tr>\n",
       "    <tr>\n",
       "      <th>11665</th>\n",
       "      <td>2023-06-05</td>\n",
       "      <td>2023-06-30 00:00:00</td>\n",
       "      <td>S025-0508</td>\n",
       "      <td>S025-0508</td>\n",
       "      <td>1418-61455-3-12650-C FRAME (REAR)</td>\n",
       "      <td>25.00</td>\n",
       "      <td>Jun</td>\n",
       "      <td>23</td>\n",
       "    </tr>\n",
       "    <tr>\n",
       "      <th>11793</th>\n",
       "      <td>2023-07-10</td>\n",
       "      <td>2023-07-27 05:00:43</td>\n",
       "      <td>S025-0508</td>\n",
       "      <td>S025-0508</td>\n",
       "      <td>1418-61455-3-12650-C FRAME (REAR)</td>\n",
       "      <td>17.21</td>\n",
       "      <td>Jul</td>\n",
       "      <td>28</td>\n",
       "    </tr>\n",
       "  </tbody>\n",
       "</table>\n",
       "<p>228 rows × 8 columns</p>\n",
       "</div>"
      ],
      "text/plain": [
       "      jmp_production_due_date  jmp_completed_date jmp_part_id imp_part_id  \\\n",
       "993                2023-05-22 2023-06-06 00:00:00   Y002-0631   Y002-0631   \n",
       "994                2023-06-12 2023-06-15 00:00:00   Y002-0631   Y002-0631   \n",
       "995                2023-07-31 2023-08-16 00:00:00   Y002-0605   Y002-0605   \n",
       "1076               2023-07-31 2023-08-10 00:00:00   Y002-0631   Y002-0631   \n",
       "1110               2023-12-13 2023-12-14 00:00:00   Y002-0604   Y002-0604   \n",
       "...                       ...                 ...         ...         ...   \n",
       "11662              2023-05-15 2023-06-06 00:00:00   S025-0508   S025-0508   \n",
       "11663              2023-05-22 2023-06-06 00:00:00   S025-0508   S025-0508   \n",
       "11664              2023-05-29 2023-06-12 00:00:00   S025-0508   S025-0508   \n",
       "11665              2023-06-05 2023-06-30 00:00:00   S025-0508   S025-0508   \n",
       "11793              2023-07-10 2023-07-27 05:00:43   S025-0508   S025-0508   \n",
       "\n",
       "                    imp_short_description  on_time_delivery month  week  \n",
       "993     YT449800B-D-AO CUMMINS KIT 84SQFT             15.00   May    21  \n",
       "994     YT449800B-D-AO CUMMINS KIT 84SQFT              3.00   Jun    24  \n",
       "995    YT449800B-C-AO CUMMINS KIT 84 SQFT             16.00   Jul    31  \n",
       "1076    YT449800B-D-AO CUMMINS KIT 84SQFT             10.00   Jul    31  \n",
       "1110   YT449800B-B-AO CUMMINS KIT 84 SQFT              1.00   Dec    50  \n",
       "...                                   ...               ...   ...   ...  \n",
       "11662   1418-61455-3-12650-C FRAME (REAR)             22.00   May    20  \n",
       "11663   1418-61455-3-12650-C FRAME (REAR)             15.00   May    21  \n",
       "11664   1418-61455-3-12650-C FRAME (REAR)             14.00   May    22  \n",
       "11665   1418-61455-3-12650-C FRAME (REAR)             25.00   Jun    23  \n",
       "11793   1418-61455-3-12650-C FRAME (REAR)             17.21   Jul    28  \n",
       "\n",
       "[228 rows x 8 columns]"
      ]
     },
     "execution_count": 61,
     "metadata": {},
     "output_type": "execute_result"
    }
   ],
   "source": [
    "part_delay"
   ]
  },
  {
   "cell_type": "code",
   "execution_count": 62,
   "id": "f4bc2707-fd2b-4910-8ce1-e9a155cc6ec5",
   "metadata": {},
   "outputs": [
    {
     "data": {
      "text/plain": [
       "Index(['omp_sales_order_id', 'omp_plant_id', 'omp_customer_organization_id',\n",
       "       'omp_arinvoice_contact_id', 'omp_ship_location_id', 'omp_customer_po',\n",
       "       'omp_requested_ship_date', 'omp_order_date', 'omp_shipping_method_id',\n",
       "       'omp_shipping_payment_type_id', 'omp_payment_term_id',\n",
       "       'omp_order_comments_text', 'omp_ready_to_print',\n",
       "       'omp_full_order_subtotal_base', 'omp_discount_total_base',\n",
       "       'omp_order_subtotal_base', 'omp_total_order_weight',\n",
       "       'omp_freight_amount_base', 'omp_freight_total_base',\n",
       "       'omp_tax_subtotal_base', 'omp_order_tax_amount_base',\n",
       "       'omp_order_total_base', 'omp_closed', 'omp_closed_date',\n",
       "       'omp_deposit_amount_base', 'omp_avalara_tax_calculated',\n",
       "       'omp_upsaccount_number', 'omp_upsbilling_option',\n",
       "       'omp_fed_ex_billing_option', 'omp_created_by', 'omp_created_date',\n",
       "       'uomp_promise_date'],\n",
       "      dtype='object')"
      ]
     },
     "execution_count": 62,
     "metadata": {},
     "output_type": "execute_result"
    }
   ],
   "source": [
    "so.columns"
   ]
  },
  {
   "cell_type": "code",
   "execution_count": null,
   "id": "41b437db-ebba-4e81-85dc-fb4d44b2a911",
   "metadata": {},
   "outputs": [],
   "source": []
  },
  {
   "cell_type": "markdown",
   "id": "bc5cb034-55bf-408d-bf3f-100cf6f2f188",
   "metadata": {},
   "source": [
    "2023, 2024, jobs, sales order "
   ]
  },
  {
   "cell_type": "code",
   "execution_count": 64,
   "id": "29219a07-d9f5-4ff5-b9f5-f2edeff20e4b",
   "metadata": {},
   "outputs": [],
   "source": [
    "top10_revenue=so[['omp_order_date','omp_customer_organization_id','omp_full_order_subtotal_base']]"
   ]
  },
  {
   "cell_type": "code",
   "execution_count": 65,
   "id": "79c1d38e-c321-4f22-a8c8-fe0f1eb71104",
   "metadata": {},
   "outputs": [
    {
     "data": {
      "text/html": [
       "<div>\n",
       "<style scoped>\n",
       "    .dataframe tbody tr th:only-of-type {\n",
       "        vertical-align: middle;\n",
       "    }\n",
       "\n",
       "    .dataframe tbody tr th {\n",
       "        vertical-align: top;\n",
       "    }\n",
       "\n",
       "    .dataframe thead th {\n",
       "        text-align: right;\n",
       "    }\n",
       "</style>\n",
       "<table border=\"1\" class=\"dataframe\">\n",
       "  <thead>\n",
       "    <tr style=\"text-align: right;\">\n",
       "      <th></th>\n",
       "      <th>omp_order_date</th>\n",
       "      <th>omp_customer_organization_id</th>\n",
       "      <th>omp_full_order_subtotal_base</th>\n",
       "    </tr>\n",
       "  </thead>\n",
       "  <tbody>\n",
       "    <tr>\n",
       "      <th>0</th>\n",
       "      <td>9/12/2023 0:00</td>\n",
       "      <td>M030-MORGO</td>\n",
       "      <td>11900.00</td>\n",
       "    </tr>\n",
       "    <tr>\n",
       "      <th>1</th>\n",
       "      <td>9/12/2023 0:00</td>\n",
       "      <td>M030-MORGO</td>\n",
       "      <td>4616.70</td>\n",
       "    </tr>\n",
       "    <tr>\n",
       "      <th>2</th>\n",
       "      <td>9/12/2023 0:00</td>\n",
       "      <td>M030-MORGO</td>\n",
       "      <td>799.40</td>\n",
       "    </tr>\n",
       "    <tr>\n",
       "      <th>3</th>\n",
       "      <td>9/12/2023 0:00</td>\n",
       "      <td>M030-MORGO</td>\n",
       "      <td>1946.00</td>\n",
       "    </tr>\n",
       "    <tr>\n",
       "      <th>4</th>\n",
       "      <td>9/12/2023 0:00</td>\n",
       "      <td>M030-MORGO</td>\n",
       "      <td>2835.80</td>\n",
       "    </tr>\n",
       "    <tr>\n",
       "      <th>...</th>\n",
       "      <td>...</td>\n",
       "      <td>...</td>\n",
       "      <td>...</td>\n",
       "    </tr>\n",
       "    <tr>\n",
       "      <th>8276</th>\n",
       "      <td>9/20/2024 0:00</td>\n",
       "      <td>S039-SMI</td>\n",
       "      <td>5914.61</td>\n",
       "    </tr>\n",
       "    <tr>\n",
       "      <th>8277</th>\n",
       "      <td>9/26/2024 0:00</td>\n",
       "      <td>A038-ADVST</td>\n",
       "      <td>514.12</td>\n",
       "    </tr>\n",
       "    <tr>\n",
       "      <th>8278</th>\n",
       "      <td>10/7/2024 0:00</td>\n",
       "      <td>M026-MIURA</td>\n",
       "      <td>70.12</td>\n",
       "    </tr>\n",
       "    <tr>\n",
       "      <th>8279</th>\n",
       "      <td>10/15/2024 0:00</td>\n",
       "      <td>S039-SMI</td>\n",
       "      <td>73.26</td>\n",
       "    </tr>\n",
       "    <tr>\n",
       "      <th>8280</th>\n",
       "      <td>10/30/2024 0:00</td>\n",
       "      <td>M026-MIURA</td>\n",
       "      <td>340.70</td>\n",
       "    </tr>\n",
       "  </tbody>\n",
       "</table>\n",
       "<p>8281 rows × 3 columns</p>\n",
       "</div>"
      ],
      "text/plain": [
       "       omp_order_date omp_customer_organization_id  \\\n",
       "0      9/12/2023 0:00                   M030-MORGO   \n",
       "1      9/12/2023 0:00                   M030-MORGO   \n",
       "2      9/12/2023 0:00                   M030-MORGO   \n",
       "3      9/12/2023 0:00                   M030-MORGO   \n",
       "4      9/12/2023 0:00                   M030-MORGO   \n",
       "...               ...                          ...   \n",
       "8276   9/20/2024 0:00                     S039-SMI   \n",
       "8277   9/26/2024 0:00                   A038-ADVST   \n",
       "8278   10/7/2024 0:00                   M026-MIURA   \n",
       "8279  10/15/2024 0:00                     S039-SMI   \n",
       "8280  10/30/2024 0:00                   M026-MIURA   \n",
       "\n",
       "      omp_full_order_subtotal_base  \n",
       "0                         11900.00  \n",
       "1                          4616.70  \n",
       "2                           799.40  \n",
       "3                          1946.00  \n",
       "4                          2835.80  \n",
       "...                            ...  \n",
       "8276                       5914.61  \n",
       "8277                        514.12  \n",
       "8278                         70.12  \n",
       "8279                         73.26  \n",
       "8280                        340.70  \n",
       "\n",
       "[8281 rows x 3 columns]"
      ]
     },
     "execution_count": 65,
     "metadata": {},
     "output_type": "execute_result"
    }
   ],
   "source": [
    "top10_revenue"
   ]
  },
  {
   "cell_type": "code",
   "execution_count": 66,
   "id": "a80141f3-43c8-4940-8146-6240b4878751",
   "metadata": {},
   "outputs": [
    {
     "name": "stderr",
     "output_type": "stream",
     "text": [
      "C:\\Users\\graft\\AppData\\Local\\Temp\\ipykernel_8732\\3227010440.py:1: SettingWithCopyWarning: \n",
      "A value is trying to be set on a copy of a slice from a DataFrame.\n",
      "Try using .loc[row_indexer,col_indexer] = value instead\n",
      "\n",
      "See the caveats in the documentation: https://pandas.pydata.org/pandas-docs/stable/user_guide/indexing.html#returning-a-view-versus-a-copy\n",
      "  top10_revenue['omp_order_date']= pd.to_datetime(top10_revenue['omp_order_date'])\n"
     ]
    }
   ],
   "source": [
    "top10_revenue['omp_order_date']= pd.to_datetime(top10_revenue['omp_order_date'])"
   ]
  },
  {
   "cell_type": "code",
   "execution_count": 67,
   "id": "1bb6b3e5-1d6a-4350-880b-cf730a3e8d9e",
   "metadata": {},
   "outputs": [
    {
     "name": "stderr",
     "output_type": "stream",
     "text": [
      "C:\\Users\\graft\\AppData\\Local\\Temp\\ipykernel_8732\\3306500861.py:1: SettingWithCopyWarning: \n",
      "A value is trying to be set on a copy of a slice from a DataFrame.\n",
      "Try using .loc[row_indexer,col_indexer] = value instead\n",
      "\n",
      "See the caveats in the documentation: https://pandas.pydata.org/pandas-docs/stable/user_guide/indexing.html#returning-a-view-versus-a-copy\n",
      "  top10_revenue['quarter']=top10_revenue['omp_order_date'].dt.quarter\n"
     ]
    }
   ],
   "source": [
    "top10_revenue['quarter']=top10_revenue['omp_order_date'].dt.quarter"
   ]
  },
  {
   "cell_type": "code",
   "execution_count": 68,
   "id": "553a97bf-a405-400f-befd-ad9f4ad4e6c9",
   "metadata": {},
   "outputs": [
    {
     "data": {
      "text/html": [
       "<div>\n",
       "<style scoped>\n",
       "    .dataframe tbody tr th:only-of-type {\n",
       "        vertical-align: middle;\n",
       "    }\n",
       "\n",
       "    .dataframe tbody tr th {\n",
       "        vertical-align: top;\n",
       "    }\n",
       "\n",
       "    .dataframe thead th {\n",
       "        text-align: right;\n",
       "    }\n",
       "</style>\n",
       "<table border=\"1\" class=\"dataframe\">\n",
       "  <thead>\n",
       "    <tr style=\"text-align: right;\">\n",
       "      <th></th>\n",
       "      <th>omp_order_date</th>\n",
       "      <th>omp_customer_organization_id</th>\n",
       "      <th>omp_full_order_subtotal_base</th>\n",
       "      <th>quarter</th>\n",
       "    </tr>\n",
       "  </thead>\n",
       "  <tbody>\n",
       "    <tr>\n",
       "      <th>0</th>\n",
       "      <td>2023-09-12</td>\n",
       "      <td>M030-MORGO</td>\n",
       "      <td>11900.00</td>\n",
       "      <td>3</td>\n",
       "    </tr>\n",
       "    <tr>\n",
       "      <th>1</th>\n",
       "      <td>2023-09-12</td>\n",
       "      <td>M030-MORGO</td>\n",
       "      <td>4616.70</td>\n",
       "      <td>3</td>\n",
       "    </tr>\n",
       "    <tr>\n",
       "      <th>2</th>\n",
       "      <td>2023-09-12</td>\n",
       "      <td>M030-MORGO</td>\n",
       "      <td>799.40</td>\n",
       "      <td>3</td>\n",
       "    </tr>\n",
       "    <tr>\n",
       "      <th>3</th>\n",
       "      <td>2023-09-12</td>\n",
       "      <td>M030-MORGO</td>\n",
       "      <td>1946.00</td>\n",
       "      <td>3</td>\n",
       "    </tr>\n",
       "    <tr>\n",
       "      <th>4</th>\n",
       "      <td>2023-09-12</td>\n",
       "      <td>M030-MORGO</td>\n",
       "      <td>2835.80</td>\n",
       "      <td>3</td>\n",
       "    </tr>\n",
       "    <tr>\n",
       "      <th>...</th>\n",
       "      <td>...</td>\n",
       "      <td>...</td>\n",
       "      <td>...</td>\n",
       "      <td>...</td>\n",
       "    </tr>\n",
       "    <tr>\n",
       "      <th>8276</th>\n",
       "      <td>2024-09-20</td>\n",
       "      <td>S039-SMI</td>\n",
       "      <td>5914.61</td>\n",
       "      <td>3</td>\n",
       "    </tr>\n",
       "    <tr>\n",
       "      <th>8277</th>\n",
       "      <td>2024-09-26</td>\n",
       "      <td>A038-ADVST</td>\n",
       "      <td>514.12</td>\n",
       "      <td>3</td>\n",
       "    </tr>\n",
       "    <tr>\n",
       "      <th>8278</th>\n",
       "      <td>2024-10-07</td>\n",
       "      <td>M026-MIURA</td>\n",
       "      <td>70.12</td>\n",
       "      <td>4</td>\n",
       "    </tr>\n",
       "    <tr>\n",
       "      <th>8279</th>\n",
       "      <td>2024-10-15</td>\n",
       "      <td>S039-SMI</td>\n",
       "      <td>73.26</td>\n",
       "      <td>4</td>\n",
       "    </tr>\n",
       "    <tr>\n",
       "      <th>8280</th>\n",
       "      <td>2024-10-30</td>\n",
       "      <td>M026-MIURA</td>\n",
       "      <td>340.70</td>\n",
       "      <td>4</td>\n",
       "    </tr>\n",
       "  </tbody>\n",
       "</table>\n",
       "<p>8281 rows × 4 columns</p>\n",
       "</div>"
      ],
      "text/plain": [
       "     omp_order_date omp_customer_organization_id  \\\n",
       "0        2023-09-12                   M030-MORGO   \n",
       "1        2023-09-12                   M030-MORGO   \n",
       "2        2023-09-12                   M030-MORGO   \n",
       "3        2023-09-12                   M030-MORGO   \n",
       "4        2023-09-12                   M030-MORGO   \n",
       "...             ...                          ...   \n",
       "8276     2024-09-20                     S039-SMI   \n",
       "8277     2024-09-26                   A038-ADVST   \n",
       "8278     2024-10-07                   M026-MIURA   \n",
       "8279     2024-10-15                     S039-SMI   \n",
       "8280     2024-10-30                   M026-MIURA   \n",
       "\n",
       "      omp_full_order_subtotal_base  quarter  \n",
       "0                         11900.00        3  \n",
       "1                          4616.70        3  \n",
       "2                           799.40        3  \n",
       "3                          1946.00        3  \n",
       "4                          2835.80        3  \n",
       "...                            ...      ...  \n",
       "8276                       5914.61        3  \n",
       "8277                        514.12        3  \n",
       "8278                         70.12        4  \n",
       "8279                         73.26        4  \n",
       "8280                        340.70        4  \n",
       "\n",
       "[8281 rows x 4 columns]"
      ]
     },
     "execution_count": 68,
     "metadata": {},
     "output_type": "execute_result"
    }
   ],
   "source": [
    "top10_revenue"
   ]
  },
  {
   "cell_type": "code",
   "execution_count": 134,
   "id": "5d1fa8da-313b-48bc-ae85-06d3ed8cc396",
   "metadata": {},
   "outputs": [
    {
     "name": "stderr",
     "output_type": "stream",
     "text": [
      "C:\\Users\\graft\\AppData\\Local\\Temp\\ipykernel_8732\\1708807458.py:1: SettingWithCopyWarning: \n",
      "A value is trying to be set on a copy of a slice from a DataFrame.\n",
      "Try using .loc[row_indexer,col_indexer] = value instead\n",
      "\n",
      "See the caveats in the documentation: https://pandas.pydata.org/pandas-docs/stable/user_guide/indexing.html#returning-a-view-versus-a-copy\n",
      "  top10_revenue['year']=top10_revenue['omp_order_date'].dt.year\n"
     ]
    }
   ],
   "source": [
    "top10_revenue['year']=top10_revenue['omp_order_date'].dt.year"
   ]
  },
  {
   "cell_type": "code",
   "execution_count": 138,
   "id": "b888e9a3-429e-44f5-9c45-d61fb8e18d91",
   "metadata": {},
   "outputs": [],
   "source": [
    "q_revenue=top10_revenue.groupby(['year','quarter','omp_customer_organization_id'])['omp_full_order_subtotal_base'].sum().to_frame().reset_index()"
   ]
  },
  {
   "cell_type": "code",
   "execution_count": 404,
   "id": "c57ec6a4-37b1-47e5-86a2-6cddbf5ae9b6",
   "metadata": {},
   "outputs": [],
   "source": [
    "q1_rev_2023=q_revenue.loc[(q_revenue['quarter']==1)&(q_revenue['year']==2023)].sort_values(by='omp_full_order_subtotal_base', ascending=False).head(10)"
   ]
  },
  {
   "cell_type": "code",
   "execution_count": 406,
   "id": "832266b1-6da0-4c1e-b04a-9ecdc4c78af5",
   "metadata": {},
   "outputs": [],
   "source": [
    "q1_rev_2023['year'] = '2023'"
   ]
  },
  {
   "cell_type": "code",
   "execution_count": 408,
   "id": "2839ba1e-b736-433f-b279-68e99fb19561",
   "metadata": {},
   "outputs": [],
   "source": [
    "q2_rev_2023=q_revenue.loc[(q_revenue['quarter']==2)&(q_revenue['year']==2023)].sort_values(by='omp_full_order_subtotal_base', ascending=False).head(10)"
   ]
  },
  {
   "cell_type": "code",
   "execution_count": 410,
   "id": "c6a05a3c-8544-4389-953c-8b59a47252f3",
   "metadata": {},
   "outputs": [],
   "source": [
    "q2_rev_2023['year'] = '2023'"
   ]
  },
  {
   "cell_type": "code",
   "execution_count": 412,
   "id": "976113fa-3831-4e41-972d-4ac662ebe4d7",
   "metadata": {},
   "outputs": [],
   "source": [
    "q3_rev_2023=q_revenue.loc[(q_revenue['quarter']==3)&(q_revenue['year']==2023)].sort_values(by='omp_full_order_subtotal_base', ascending=False).head(10)"
   ]
  },
  {
   "cell_type": "code",
   "execution_count": 414,
   "id": "42f626e2-5862-4342-b6b1-7a474fe6c273",
   "metadata": {},
   "outputs": [],
   "source": [
    "q3_rev_2023['year'] = '2023'"
   ]
  },
  {
   "cell_type": "code",
   "execution_count": 416,
   "id": "d3e9acf7-73da-4852-a87c-8974b07dd86e",
   "metadata": {},
   "outputs": [],
   "source": [
    "q4_rev_2023=q_revenue.loc[(q_revenue['quarter']==4)&(q_revenue['year']==2023)].sort_values(by='omp_full_order_subtotal_base', ascending=False).head(10)"
   ]
  },
  {
   "cell_type": "code",
   "execution_count": 418,
   "id": "f74074b0-3026-4427-a365-786f1148b064",
   "metadata": {},
   "outputs": [],
   "source": [
    "q4_rev_2023['year'] = '2023'"
   ]
  },
  {
   "cell_type": "code",
   "execution_count": 420,
   "id": "4ae8c816-30df-4286-af1d-c1907e3916ba",
   "metadata": {},
   "outputs": [],
   "source": [
    "q1_rev_2024=q_revenue.loc[(q_revenue['quarter']==1)&(q_revenue['year']==2024)].sort_values(by='omp_full_order_subtotal_base', ascending=False).head(10)"
   ]
  },
  {
   "cell_type": "code",
   "execution_count": 422,
   "id": "dcc7a71c-0eee-4783-af9e-ff01d7123eae",
   "metadata": {},
   "outputs": [],
   "source": [
    "q1_rev_2024['year'] = '2024'"
   ]
  },
  {
   "cell_type": "code",
   "execution_count": 424,
   "id": "fafbe10d-701a-4611-92b1-0be27b80500a",
   "metadata": {},
   "outputs": [],
   "source": [
    "q2_rev_2024=q_revenue.loc[(q_revenue['quarter']==1)&(q_revenue['year']==2024)].sort_values(by='omp_full_order_subtotal_base', ascending=False).head(10)"
   ]
  },
  {
   "cell_type": "code",
   "execution_count": 426,
   "id": "9aa0faf5-6a03-467e-a48f-23eb17cbd25c",
   "metadata": {},
   "outputs": [],
   "source": [
    "q2_rev_2024['year'] = '2024'"
   ]
  },
  {
   "cell_type": "code",
   "execution_count": 428,
   "id": "3c2acf0d-0cc2-4f4f-9bfb-5d8a9c24ce00",
   "metadata": {},
   "outputs": [],
   "source": [
    "q3_rev_2024=q_revenue.loc[(q_revenue['quarter']==3)&(q_revenue['year']==2024)].sort_values(by='omp_full_order_subtotal_base', ascending=False).head(10)"
   ]
  },
  {
   "cell_type": "code",
   "execution_count": 430,
   "id": "1f89cd9c-3a63-4353-961b-6704d6dec0d5",
   "metadata": {},
   "outputs": [],
   "source": [
    "q3_rev_2024['year'] = '2024'"
   ]
  },
  {
   "cell_type": "code",
   "execution_count": 432,
   "id": "a8fa7388-afd9-4b24-8ad0-f0481688759d",
   "metadata": {},
   "outputs": [],
   "source": [
    "q4_rev_2024=q_revenue.loc[(q_revenue['quarter']==4)&(q_revenue['year']==2024)].sort_values(by='omp_full_order_subtotal_base', ascending=False).head(10)"
   ]
  },
  {
   "cell_type": "code",
   "execution_count": 434,
   "id": "783b9fc7-bf97-46b7-9b33-17c107bba7ac",
   "metadata": {},
   "outputs": [],
   "source": [
    "q4_rev_2024['year'] = '2024'"
   ]
  },
  {
   "cell_type": "code",
   "execution_count": 76,
   "id": "25c5000f-6bfd-4175-982e-d6e3a3f2758f",
   "metadata": {},
   "outputs": [],
   "source": [
    "top10_jobs=j[['jmp_job_date','jmp_customer_organization_id','jmp_job_id']]"
   ]
  },
  {
   "cell_type": "code",
   "execution_count": 77,
   "id": "252b3857-460a-42d8-a08c-d30e6451d0ef",
   "metadata": {},
   "outputs": [
    {
     "data": {
      "text/html": [
       "<div>\n",
       "<style scoped>\n",
       "    .dataframe tbody tr th:only-of-type {\n",
       "        vertical-align: middle;\n",
       "    }\n",
       "\n",
       "    .dataframe tbody tr th {\n",
       "        vertical-align: top;\n",
       "    }\n",
       "\n",
       "    .dataframe thead th {\n",
       "        text-align: right;\n",
       "    }\n",
       "</style>\n",
       "<table border=\"1\" class=\"dataframe\">\n",
       "  <thead>\n",
       "    <tr style=\"text-align: right;\">\n",
       "      <th></th>\n",
       "      <th>jmp_job_date</th>\n",
       "      <th>jmp_customer_organization_id</th>\n",
       "      <th>jmp_job_id</th>\n",
       "    </tr>\n",
       "  </thead>\n",
       "  <tbody>\n",
       "    <tr>\n",
       "      <th>0</th>\n",
       "      <td>2023-02-10</td>\n",
       "      <td>M030-MORGO</td>\n",
       "      <td>28338-0001-001</td>\n",
       "    </tr>\n",
       "    <tr>\n",
       "      <th>1</th>\n",
       "      <td>2023-01-09</td>\n",
       "      <td>M030-MORGO</td>\n",
       "      <td>27622-0001-001</td>\n",
       "    </tr>\n",
       "    <tr>\n",
       "      <th>2</th>\n",
       "      <td>2023-01-11</td>\n",
       "      <td>M030-MORGO</td>\n",
       "      <td>27652-0001-001</td>\n",
       "    </tr>\n",
       "    <tr>\n",
       "      <th>3</th>\n",
       "      <td>2023-01-11</td>\n",
       "      <td>M030-MORGO</td>\n",
       "      <td>27653-0001-001</td>\n",
       "    </tr>\n",
       "    <tr>\n",
       "      <th>4</th>\n",
       "      <td>2023-01-11</td>\n",
       "      <td>M030-MORGO</td>\n",
       "      <td>27654-0001-001</td>\n",
       "    </tr>\n",
       "    <tr>\n",
       "      <th>...</th>\n",
       "      <td>...</td>\n",
       "      <td>...</td>\n",
       "      <td>...</td>\n",
       "    </tr>\n",
       "    <tr>\n",
       "      <th>14810</th>\n",
       "      <td>2023-08-09</td>\n",
       "      <td>M030-MORGO</td>\n",
       "      <td>31256-0001-001</td>\n",
       "    </tr>\n",
       "    <tr>\n",
       "      <th>14811</th>\n",
       "      <td>2023-08-10</td>\n",
       "      <td>M030-MORGO</td>\n",
       "      <td>31259-0001-001</td>\n",
       "    </tr>\n",
       "    <tr>\n",
       "      <th>14812</th>\n",
       "      <td>2023-08-10</td>\n",
       "      <td>M030-MORGO</td>\n",
       "      <td>31261-0001-001</td>\n",
       "    </tr>\n",
       "    <tr>\n",
       "      <th>14813</th>\n",
       "      <td>2023-08-14</td>\n",
       "      <td>M030-MORGO</td>\n",
       "      <td>31309-0001-001</td>\n",
       "    </tr>\n",
       "    <tr>\n",
       "      <th>14814</th>\n",
       "      <td>2023-08-14</td>\n",
       "      <td>M030-MORGO</td>\n",
       "      <td>31310-0001-001</td>\n",
       "    </tr>\n",
       "  </tbody>\n",
       "</table>\n",
       "<p>14815 rows × 3 columns</p>\n",
       "</div>"
      ],
      "text/plain": [
       "      jmp_job_date jmp_customer_organization_id      jmp_job_id\n",
       "0       2023-02-10                   M030-MORGO  28338-0001-001\n",
       "1       2023-01-09                   M030-MORGO  27622-0001-001\n",
       "2       2023-01-11                   M030-MORGO  27652-0001-001\n",
       "3       2023-01-11                   M030-MORGO  27653-0001-001\n",
       "4       2023-01-11                   M030-MORGO  27654-0001-001\n",
       "...            ...                          ...             ...\n",
       "14810   2023-08-09                   M030-MORGO  31256-0001-001\n",
       "14811   2023-08-10                   M030-MORGO  31259-0001-001\n",
       "14812   2023-08-10                   M030-MORGO  31261-0001-001\n",
       "14813   2023-08-14                   M030-MORGO  31309-0001-001\n",
       "14814   2023-08-14                   M030-MORGO  31310-0001-001\n",
       "\n",
       "[14815 rows x 3 columns]"
      ]
     },
     "execution_count": 77,
     "metadata": {},
     "output_type": "execute_result"
    }
   ],
   "source": [
    "top10_jobs"
   ]
  },
  {
   "cell_type": "code",
   "execution_count": 78,
   "id": "84f30697-bdda-4c74-8291-ec42382c6a88",
   "metadata": {},
   "outputs": [
    {
     "name": "stderr",
     "output_type": "stream",
     "text": [
      "C:\\Users\\graft\\AppData\\Local\\Temp\\ipykernel_8732\\2176138268.py:1: SettingWithCopyWarning: \n",
      "A value is trying to be set on a copy of a slice from a DataFrame.\n",
      "Try using .loc[row_indexer,col_indexer] = value instead\n",
      "\n",
      "See the caveats in the documentation: https://pandas.pydata.org/pandas-docs/stable/user_guide/indexing.html#returning-a-view-versus-a-copy\n",
      "  top10_jobs['jmp_job_date']= pd.to_datetime(top10_jobs['jmp_job_date'])\n"
     ]
    }
   ],
   "source": [
    "top10_jobs['jmp_job_date']= pd.to_datetime(top10_jobs['jmp_job_date'])"
   ]
  },
  {
   "cell_type": "code",
   "execution_count": 79,
   "id": "81a0a56b-4c69-44b1-ad15-282face0e29d",
   "metadata": {},
   "outputs": [
    {
     "name": "stderr",
     "output_type": "stream",
     "text": [
      "C:\\Users\\graft\\AppData\\Local\\Temp\\ipykernel_8732\\892508988.py:1: SettingWithCopyWarning: \n",
      "A value is trying to be set on a copy of a slice from a DataFrame.\n",
      "Try using .loc[row_indexer,col_indexer] = value instead\n",
      "\n",
      "See the caveats in the documentation: https://pandas.pydata.org/pandas-docs/stable/user_guide/indexing.html#returning-a-view-versus-a-copy\n",
      "  top10_jobs['quarter']=top10_jobs['jmp_job_date'].dt.quarter\n"
     ]
    }
   ],
   "source": [
    "top10_jobs['quarter']=top10_jobs['jmp_job_date'].dt.quarter"
   ]
  },
  {
   "cell_type": "code",
   "execution_count": null,
   "id": "24a9ce08-7cad-47a6-8ea9-7d372efff7b0",
   "metadata": {},
   "outputs": [],
   "source": []
  },
  {
   "cell_type": "code",
   "execution_count": 92,
   "id": "332680b0-3441-4971-b4f3-52c17e2c8fb2",
   "metadata": {},
   "outputs": [
    {
     "name": "stderr",
     "output_type": "stream",
     "text": [
      "C:\\Users\\graft\\AppData\\Local\\Temp\\ipykernel_8732\\901314875.py:1: SettingWithCopyWarning: \n",
      "A value is trying to be set on a copy of a slice from a DataFrame.\n",
      "Try using .loc[row_indexer,col_indexer] = value instead\n",
      "\n",
      "See the caveats in the documentation: https://pandas.pydata.org/pandas-docs/stable/user_guide/indexing.html#returning-a-view-versus-a-copy\n",
      "  top10_jobs['year']=top10_jobs['jmp_job_date'].dt.year\n"
     ]
    }
   ],
   "source": [
    "top10_jobs['year']=top10_jobs['jmp_job_date'].dt.year"
   ]
  },
  {
   "cell_type": "code",
   "execution_count": 100,
   "id": "ef5181e5-a1ea-432a-8ba3-66b983932949",
   "metadata": {},
   "outputs": [],
   "source": [
    "q_jobs=top10_jobs.groupby(['year','quarter','jmp_customer_organization_id'])['jmp_job_id'].count().to_frame().reset_index()"
   ]
  },
  {
   "cell_type": "code",
   "execution_count": 102,
   "id": "47459be1-2596-4417-b747-b4a811b92ae5",
   "metadata": {},
   "outputs": [
    {
     "data": {
      "text/html": [
       "<div>\n",
       "<style scoped>\n",
       "    .dataframe tbody tr th:only-of-type {\n",
       "        vertical-align: middle;\n",
       "    }\n",
       "\n",
       "    .dataframe tbody tr th {\n",
       "        vertical-align: top;\n",
       "    }\n",
       "\n",
       "    .dataframe thead th {\n",
       "        text-align: right;\n",
       "    }\n",
       "</style>\n",
       "<table border=\"1\" class=\"dataframe\">\n",
       "  <thead>\n",
       "    <tr style=\"text-align: right;\">\n",
       "      <th></th>\n",
       "      <th>year</th>\n",
       "      <th>quarter</th>\n",
       "      <th>jmp_customer_organization_id</th>\n",
       "      <th>jmp_job_id</th>\n",
       "    </tr>\n",
       "  </thead>\n",
       "  <tbody>\n",
       "    <tr>\n",
       "      <th>0</th>\n",
       "      <td>2023</td>\n",
       "      <td>1</td>\n",
       "      <td>A012-ALADD</td>\n",
       "      <td>1</td>\n",
       "    </tr>\n",
       "    <tr>\n",
       "      <th>1</th>\n",
       "      <td>2023</td>\n",
       "      <td>1</td>\n",
       "      <td>A014-ADF</td>\n",
       "      <td>2</td>\n",
       "    </tr>\n",
       "    <tr>\n",
       "      <th>2</th>\n",
       "      <td>2023</td>\n",
       "      <td>1</td>\n",
       "      <td>A029-A&amp;ECO</td>\n",
       "      <td>9</td>\n",
       "    </tr>\n",
       "    <tr>\n",
       "      <th>3</th>\n",
       "      <td>2023</td>\n",
       "      <td>1</td>\n",
       "      <td>A045-AFS</td>\n",
       "      <td>19</td>\n",
       "    </tr>\n",
       "    <tr>\n",
       "      <th>4</th>\n",
       "      <td>2023</td>\n",
       "      <td>1</td>\n",
       "      <td>A050-ALLVA</td>\n",
       "      <td>3</td>\n",
       "    </tr>\n",
       "    <tr>\n",
       "      <th>...</th>\n",
       "      <td>...</td>\n",
       "      <td>...</td>\n",
       "      <td>...</td>\n",
       "      <td>...</td>\n",
       "    </tr>\n",
       "    <tr>\n",
       "      <th>508</th>\n",
       "      <td>2024</td>\n",
       "      <td>4</td>\n",
       "      <td>U002-UENRT</td>\n",
       "      <td>1</td>\n",
       "    </tr>\n",
       "    <tr>\n",
       "      <th>509</th>\n",
       "      <td>2024</td>\n",
       "      <td>4</td>\n",
       "      <td>U013-ULTIM</td>\n",
       "      <td>1</td>\n",
       "    </tr>\n",
       "    <tr>\n",
       "      <th>510</th>\n",
       "      <td>2024</td>\n",
       "      <td>4</td>\n",
       "      <td>V004-VIBRO</td>\n",
       "      <td>1</td>\n",
       "    </tr>\n",
       "    <tr>\n",
       "      <th>511</th>\n",
       "      <td>2024</td>\n",
       "      <td>4</td>\n",
       "      <td>V007-VNDRL</td>\n",
       "      <td>13</td>\n",
       "    </tr>\n",
       "    <tr>\n",
       "      <th>512</th>\n",
       "      <td>2024</td>\n",
       "      <td>4</td>\n",
       "      <td>Y002-YNGTC</td>\n",
       "      <td>29</td>\n",
       "    </tr>\n",
       "  </tbody>\n",
       "</table>\n",
       "<p>513 rows × 4 columns</p>\n",
       "</div>"
      ],
      "text/plain": [
       "     year  quarter jmp_customer_organization_id  jmp_job_id\n",
       "0    2023        1                   A012-ALADD           1\n",
       "1    2023        1                     A014-ADF           2\n",
       "2    2023        1                   A029-A&ECO           9\n",
       "3    2023        1                     A045-AFS          19\n",
       "4    2023        1                   A050-ALLVA           3\n",
       "..    ...      ...                          ...         ...\n",
       "508  2024        4                   U002-UENRT           1\n",
       "509  2024        4                   U013-ULTIM           1\n",
       "510  2024        4                   V004-VIBRO           1\n",
       "511  2024        4                   V007-VNDRL          13\n",
       "512  2024        4                   Y002-YNGTC          29\n",
       "\n",
       "[513 rows x 4 columns]"
      ]
     },
     "execution_count": 102,
     "metadata": {},
     "output_type": "execute_result"
    }
   ],
   "source": [
    "q_jobs"
   ]
  },
  {
   "cell_type": "code",
   "execution_count": 452,
   "id": "3f9ee7cd-49f5-492c-a4a1-197a86a54c75",
   "metadata": {},
   "outputs": [],
   "source": [
    "q1_jobs_2023=q_jobs.loc[(q_jobs['quarter']==1)&(q_jobs['year']==2023)].sort_values(by='jmp_job_id', ascending=False).head(10)"
   ]
  },
  {
   "cell_type": "code",
   "execution_count": 454,
   "id": "1829fc27-3a2d-4a57-9137-b681ec52e40c",
   "metadata": {},
   "outputs": [],
   "source": [
    "q1_jobs_2023['year'] = '2023'"
   ]
  },
  {
   "cell_type": "code",
   "execution_count": 456,
   "id": "1508223d-1dfc-4ef0-aeb2-1cba6daee0a1",
   "metadata": {},
   "outputs": [],
   "source": [
    "q2_jobs_2023=q_jobs.loc[(q_jobs['quarter']==2)&(q_jobs['year']==2023)].sort_values(by='jmp_job_id', ascending=False).head(10)"
   ]
  },
  {
   "cell_type": "code",
   "execution_count": 458,
   "id": "7e704f06-ab4d-47fd-8dea-d5a9f7001436",
   "metadata": {},
   "outputs": [],
   "source": [
    "q2_jobs_2023['year'] = '2023'"
   ]
  },
  {
   "cell_type": "code",
   "execution_count": 460,
   "id": "831858af-a3bc-43dd-a583-099268333821",
   "metadata": {},
   "outputs": [],
   "source": [
    "q3_jobs_2023=q_jobs.loc[(q_jobs['quarter']==3)&(q_jobs['year']==2023)].sort_values(by='jmp_job_id', ascending=False).head(10)"
   ]
  },
  {
   "cell_type": "code",
   "execution_count": 461,
   "id": "5fd991e1-1b57-49c3-ade2-7e8017e985ac",
   "metadata": {},
   "outputs": [],
   "source": [
    "q3_jobs_2023['year'] = '2023'"
   ]
  },
  {
   "cell_type": "code",
   "execution_count": 464,
   "id": "db757efd-7063-4a34-89f1-9464a7dc256f",
   "metadata": {},
   "outputs": [],
   "source": [
    "q4_jobs_2023=q_jobs.loc[(q_jobs['quarter']==4)&(q_jobs['year']==2023)].sort_values(by='jmp_job_id', ascending=False).head(10)"
   ]
  },
  {
   "cell_type": "code",
   "execution_count": 465,
   "id": "8e1a943b-2833-4379-a58e-2b29d1208c3b",
   "metadata": {},
   "outputs": [],
   "source": [
    "q4_jobs_2023['year'] = '2023'"
   ]
  },
  {
   "cell_type": "code",
   "execution_count": 466,
   "id": "9d55de5b-d9bf-4215-9760-ee95b91b17d8",
   "metadata": {},
   "outputs": [],
   "source": [
    "q1_jobs_2024=q_jobs.loc[(q_jobs['quarter']==1)&(q_jobs['year']==2024)].sort_values(by='jmp_job_id', ascending=False).head(10)"
   ]
  },
  {
   "cell_type": "code",
   "execution_count": 468,
   "id": "423034c3-858f-4c45-b613-6c2a9833111f",
   "metadata": {},
   "outputs": [],
   "source": [
    "q1_jobs_2024['year'] = '2024'"
   ]
  },
  {
   "cell_type": "code",
   "execution_count": 470,
   "id": "fb3f07df-293e-43bb-bfa9-e3920465ae70",
   "metadata": {},
   "outputs": [],
   "source": [
    "q2_jobs_2024=q_jobs.loc[(q_jobs['quarter']==2)&(q_jobs['year']==2024)].sort_values(by='jmp_job_id', ascending=False).head(10)"
   ]
  },
  {
   "cell_type": "code",
   "execution_count": 472,
   "id": "b39b2ae7-cd03-42c7-93fe-e80f3280b74f",
   "metadata": {},
   "outputs": [],
   "source": [
    "q2_jobs_2024['year'] = '2024'"
   ]
  },
  {
   "cell_type": "code",
   "execution_count": 474,
   "id": "e98ee447-b373-4f91-891b-74940e4b72a6",
   "metadata": {},
   "outputs": [],
   "source": [
    "q3_jobs_2024=q_jobs.loc[(q_jobs['quarter']==3)&(q_jobs['year']==2024)].sort_values(by='jmp_job_id', ascending=False).head(10)"
   ]
  },
  {
   "cell_type": "code",
   "execution_count": 475,
   "id": "e9f616c0-8d61-4e32-9305-0d36654386e5",
   "metadata": {},
   "outputs": [],
   "source": [
    "q3_jobs_2024['year'] = '2024'"
   ]
  },
  {
   "cell_type": "code",
   "execution_count": 477,
   "id": "a801db2a-df68-4a60-a4b4-2a8b74d0222f",
   "metadata": {},
   "outputs": [],
   "source": [
    "q4_jobs_2024=q_jobs.loc[(q_jobs['quarter']==4)&(q_jobs['year']==2024)].sort_values(by='jmp_job_id', ascending=False).head(10)"
   ]
  },
  {
   "cell_type": "code",
   "execution_count": 479,
   "id": "6473632e-797a-4bb0-a7dc-ff52e721995f",
   "metadata": {},
   "outputs": [],
   "source": [
    "q4_jobs_2024['year'] = '2024'"
   ]
  },
  {
   "cell_type": "code",
   "execution_count": 160,
   "id": "1b2e8dd5-9f0c-4233-b58b-0c9308dd5a99",
   "metadata": {},
   "outputs": [],
   "source": [
    "jo2023 = pd.read_excel('../data/job_operations_2023.xlsx')"
   ]
  },
  {
   "cell_type": "code",
   "execution_count": 172,
   "id": "125eb43b-2dff-4d9d-9fb5-2db81d68245c",
   "metadata": {},
   "outputs": [],
   "source": [
    "jo2023['total_actual_hours']= jo2023['jmo_actual_setup_hours']+jo2023['jmo_actual_production_hours']"
   ]
  },
  {
   "cell_type": "code",
   "execution_count": 174,
   "id": "f3e513bb-83db-4355-a32b-aca0f52f4cc2",
   "metadata": {},
   "outputs": [],
   "source": [
    "jo2024['total_actual_hours']= jo2024['jmo_actual_setup_hours']+jo2024['jmo_actual_production_hours']"
   ]
  },
  {
   "cell_type": "code",
   "execution_count": 182,
   "id": "e92126a8-2bc3-433d-b58f-8e1b87ea6588",
   "metadata": {},
   "outputs": [],
   "source": [
    "jo2023_merge=pd.merge(jo2023,j,left_on='jmo_job_id', right_on='jmp_job_id')"
   ]
  },
  {
   "cell_type": "code",
   "execution_count": 184,
   "id": "8e737cf2-1682-485f-a4f1-a20fbaa5981a",
   "metadata": {},
   "outputs": [],
   "source": [
    "jo2024_merge=pd.merge(jo2024,j,left_on='jmo_job_id', right_on='jmp_job_id')"
   ]
  },
  {
   "cell_type": "code",
   "execution_count": 196,
   "id": "4ab4191b-d33d-453a-973c-7a9643f010f2",
   "metadata": {},
   "outputs": [],
   "source": [
    "jo2023_merge=jo2023_merge[['jmo_start_date','jmp_customer_organization_id','total_actual_hours']]"
   ]
  },
  {
   "cell_type": "code",
   "execution_count": 198,
   "id": "3607868d-3232-4f38-9402-3804c440324d",
   "metadata": {},
   "outputs": [],
   "source": [
    "jo2024_merge=jo2024_merge[['jmo_start_date','jmp_customer_organization_id','total_actual_hours']]"
   ]
  },
  {
   "cell_type": "code",
   "execution_count": 200,
   "id": "c399b86d-8caf-4a48-bb96-ea63f7c00ed8",
   "metadata": {},
   "outputs": [
    {
     "data": {
      "text/html": [
       "<div>\n",
       "<style scoped>\n",
       "    .dataframe tbody tr th:only-of-type {\n",
       "        vertical-align: middle;\n",
       "    }\n",
       "\n",
       "    .dataframe tbody tr th {\n",
       "        vertical-align: top;\n",
       "    }\n",
       "\n",
       "    .dataframe thead th {\n",
       "        text-align: right;\n",
       "    }\n",
       "</style>\n",
       "<table border=\"1\" class=\"dataframe\">\n",
       "  <thead>\n",
       "    <tr style=\"text-align: right;\">\n",
       "      <th></th>\n",
       "      <th>jmo_start_date</th>\n",
       "      <th>jmp_customer_organization_id</th>\n",
       "      <th>total_actual_hours</th>\n",
       "    </tr>\n",
       "  </thead>\n",
       "  <tbody>\n",
       "    <tr>\n",
       "      <th>0</th>\n",
       "      <td>2023-09-18</td>\n",
       "      <td>M030-MORGO</td>\n",
       "      <td>0.0</td>\n",
       "    </tr>\n",
       "    <tr>\n",
       "      <th>1</th>\n",
       "      <td>2023-10-09</td>\n",
       "      <td>M030-MORGO</td>\n",
       "      <td>0.0</td>\n",
       "    </tr>\n",
       "    <tr>\n",
       "      <th>2</th>\n",
       "      <td>2023-10-09</td>\n",
       "      <td>M030-MORGO</td>\n",
       "      <td>0.0</td>\n",
       "    </tr>\n",
       "    <tr>\n",
       "      <th>3</th>\n",
       "      <td>2023-10-16</td>\n",
       "      <td>M030-MORGO</td>\n",
       "      <td>0.0</td>\n",
       "    </tr>\n",
       "    <tr>\n",
       "      <th>4</th>\n",
       "      <td>2023-10-16</td>\n",
       "      <td>M030-MORGO</td>\n",
       "      <td>0.0</td>\n",
       "    </tr>\n",
       "    <tr>\n",
       "      <th>...</th>\n",
       "      <td>...</td>\n",
       "      <td>...</td>\n",
       "      <td>...</td>\n",
       "    </tr>\n",
       "    <tr>\n",
       "      <th>42432</th>\n",
       "      <td>2023-07-25</td>\n",
       "      <td>M030-MORGO</td>\n",
       "      <td>0.0</td>\n",
       "    </tr>\n",
       "    <tr>\n",
       "      <th>42433</th>\n",
       "      <td>2023-08-17</td>\n",
       "      <td>M030-MORGO</td>\n",
       "      <td>0.0</td>\n",
       "    </tr>\n",
       "    <tr>\n",
       "      <th>42434</th>\n",
       "      <td>2023-08-28</td>\n",
       "      <td>C006-C&amp;DTE</td>\n",
       "      <td>0.0</td>\n",
       "    </tr>\n",
       "    <tr>\n",
       "      <th>42435</th>\n",
       "      <td>2023-08-21</td>\n",
       "      <td>M030-MORGO</td>\n",
       "      <td>0.0</td>\n",
       "    </tr>\n",
       "    <tr>\n",
       "      <th>42436</th>\n",
       "      <td>2023-08-21</td>\n",
       "      <td>C026-CRDM</td>\n",
       "      <td>0.0</td>\n",
       "    </tr>\n",
       "  </tbody>\n",
       "</table>\n",
       "<p>42437 rows × 3 columns</p>\n",
       "</div>"
      ],
      "text/plain": [
       "      jmo_start_date jmp_customer_organization_id  total_actual_hours\n",
       "0         2023-09-18                   M030-MORGO                 0.0\n",
       "1         2023-10-09                   M030-MORGO                 0.0\n",
       "2         2023-10-09                   M030-MORGO                 0.0\n",
       "3         2023-10-16                   M030-MORGO                 0.0\n",
       "4         2023-10-16                   M030-MORGO                 0.0\n",
       "...              ...                          ...                 ...\n",
       "42432     2023-07-25                   M030-MORGO                 0.0\n",
       "42433     2023-08-17                   M030-MORGO                 0.0\n",
       "42434     2023-08-28                   C006-C&DTE                 0.0\n",
       "42435     2023-08-21                   M030-MORGO                 0.0\n",
       "42436     2023-08-21                    C026-CRDM                 0.0\n",
       "\n",
       "[42437 rows x 3 columns]"
      ]
     },
     "execution_count": 200,
     "metadata": {},
     "output_type": "execute_result"
    }
   ],
   "source": [
    "jo2023_merge"
   ]
  },
  {
   "cell_type": "code",
   "execution_count": 202,
   "id": "90e0ce54-50f0-4a48-ae84-75193b51cca5",
   "metadata": {},
   "outputs": [],
   "source": [
    "jo2023_merge['quarter']=jo2023_merge['jmo_start_date'].dt.quarter"
   ]
  },
  {
   "cell_type": "code",
   "execution_count": 206,
   "id": "a0172d11-3c5e-4080-9670-bbdea91fddc2",
   "metadata": {},
   "outputs": [],
   "source": [
    "jo2024_merge['quarter']=jo2024_merge['jmo_start_date'].dt.quarter"
   ]
  },
  {
   "cell_type": "code",
   "execution_count": 212,
   "id": "eca539d3-1d12-469a-94fb-8ccb1d9853f2",
   "metadata": {},
   "outputs": [],
   "source": [
    "q_hours_2023=jo2023_merge.groupby(['quarter','jmp_customer_organization_id'])['total_actual_hours'].sum().to_frame().reset_index()"
   ]
  },
  {
   "cell_type": "code",
   "execution_count": 214,
   "id": "6adc8201-a1e9-4adf-9061-fb88c72f367e",
   "metadata": {},
   "outputs": [],
   "source": [
    "q_hours_2024=jo2024_merge.groupby(['quarter','jmp_customer_organization_id'])['total_actual_hours'].sum().to_frame().reset_index()"
   ]
  },
  {
   "cell_type": "code",
   "execution_count": 220,
   "id": "666fce63-697d-4fa4-b1bc-34d33ce102f4",
   "metadata": {},
   "outputs": [],
   "source": [
    "q1_hours_2023=q_hours_2023.loc[q_hours_2023['quarter']==1].sort_values(by='total_actual_hours', ascending=False).head(10)"
   ]
  },
  {
   "cell_type": "code",
   "execution_count": 336,
   "id": "986d3a9d-53d6-493f-bbd3-18d33a8c2d17",
   "metadata": {},
   "outputs": [],
   "source": [
    "q1_hours_2023['year'] = '2023'"
   ]
  },
  {
   "cell_type": "code",
   "execution_count": 224,
   "id": "2a2f71ec-307d-4bba-afdd-589dcb566ee2",
   "metadata": {},
   "outputs": [],
   "source": [
    "q2_hours_2023=q_hours_2023.loc[q_hours_2023['quarter']==2].sort_values(by='total_actual_hours', ascending=False).head(10)"
   ]
  },
  {
   "cell_type": "code",
   "execution_count": 338,
   "id": "a931ed22-2590-4384-84ea-393707a33680",
   "metadata": {},
   "outputs": [],
   "source": [
    "q2_hours_2023['year'] = '2023'"
   ]
  },
  {
   "cell_type": "code",
   "execution_count": 226,
   "id": "fd984d53-e192-445d-8c99-19266bf29585",
   "metadata": {},
   "outputs": [],
   "source": [
    "q3_hours_2023=q_hours_2023.loc[q_hours_2023['quarter']==3].sort_values(by='total_actual_hours', ascending=False).head(10)"
   ]
  },
  {
   "cell_type": "code",
   "execution_count": 340,
   "id": "bb6d38af-3e75-4966-9154-ccd1a68ca024",
   "metadata": {},
   "outputs": [],
   "source": [
    "q3_hours_2023['year'] = '2023'"
   ]
  },
  {
   "cell_type": "code",
   "execution_count": 228,
   "id": "4f2a83f3-e5b0-4264-8d8a-f61945a38ccf",
   "metadata": {},
   "outputs": [],
   "source": [
    "q4_hours_2023=q_hours_2023.loc[q_hours_2023['quarter']==4].sort_values(by='total_actual_hours', ascending=False).head(10)"
   ]
  },
  {
   "cell_type": "code",
   "execution_count": 342,
   "id": "453a12b8-e934-48cb-aa75-b345a54881f6",
   "metadata": {},
   "outputs": [],
   "source": [
    "q4_hours_2023['year'] = '2023'"
   ]
  },
  {
   "cell_type": "code",
   "execution_count": 236,
   "id": "874bc57a-68d9-4864-b575-f56974d7d37b",
   "metadata": {},
   "outputs": [],
   "source": [
    "q1_hours_2024=q_hours_2024.loc[q_hours_2024['quarter']==1].sort_values(by='total_actual_hours', ascending=False).head(10)"
   ]
  },
  {
   "cell_type": "code",
   "execution_count": 344,
   "id": "a1fd92b3-9621-41f3-9b0b-8e46abd69ddc",
   "metadata": {},
   "outputs": [],
   "source": [
    "q1_hours_2024['year'] = '2024'"
   ]
  },
  {
   "cell_type": "code",
   "execution_count": 238,
   "id": "6556bfbb-3473-47d6-b578-c1b0a0ab5e66",
   "metadata": {},
   "outputs": [],
   "source": [
    "q2_hours_2024=q_hours_2024.loc[q_hours_2024['quarter']==2].sort_values(by='total_actual_hours', ascending=False).head(10)"
   ]
  },
  {
   "cell_type": "code",
   "execution_count": 346,
   "id": "3a733208-5122-4fe0-a519-403645c71579",
   "metadata": {},
   "outputs": [],
   "source": [
    "q2_hours_2024['year'] = '2024'"
   ]
  },
  {
   "cell_type": "code",
   "execution_count": 240,
   "id": "d4a44bc3-2146-417a-9523-46b855f8aee9",
   "metadata": {},
   "outputs": [],
   "source": [
    "q3_hours_2024=q_hours_2024.loc[q_hours_2024['quarter']==3].sort_values(by='total_actual_hours', ascending=False).head(10)"
   ]
  },
  {
   "cell_type": "code",
   "execution_count": 348,
   "id": "74a5dc1b-dfd3-4cbb-9db9-cc7da00f140a",
   "metadata": {},
   "outputs": [],
   "source": [
    "q3_hours_2024['year'] = '2024'"
   ]
  },
  {
   "cell_type": "code",
   "execution_count": 242,
   "id": "768ef132-4d95-45ea-8fcd-f4ede3b71a9c",
   "metadata": {},
   "outputs": [],
   "source": [
    "q4_hours_2024=q_hours_2024.loc[q_hours_2024['quarter']==4].sort_values(by='total_actual_hours', ascending=False).head(10)"
   ]
  },
  {
   "cell_type": "code",
   "execution_count": 484,
   "id": "a4fe63c2-0789-4308-a010-4607b26ef67b",
   "metadata": {},
   "outputs": [],
   "source": [
    "q4_hours_2024['year'] = '2024'"
   ]
  },
  {
   "cell_type": "code",
   "execution_count": 486,
   "id": "7f65c734-2372-4763-b4af-626c1b60ec1e",
   "metadata": {},
   "outputs": [],
   "source": [
    "hours = pd.concat([q1_hours_2023,q2_hours_2023,q3_hours_2023,q4_hours_2023,q1_hours_2024,q2_hours_2024,q3_hours_2024,q4_hours_2024])"
   ]
  },
  {
   "cell_type": "code",
   "execution_count": 488,
   "id": "885b199a-07ae-4956-9214-04c1b36f9f29",
   "metadata": {},
   "outputs": [],
   "source": [
    "revenue = pd.concat([q1_rev_2023,q2_rev_2023,q3_rev_2023,q4_rev_2023,q1_rev_2024,q2_rev_2024,q3_rev_2024,q4_rev_2024])"
   ]
  },
  {
   "cell_type": "code",
   "execution_count": 490,
   "id": "280e96cc-a4ee-48b0-be21-69fb2de3fae9",
   "metadata": {},
   "outputs": [],
   "source": [
    "jobs = pd.concat([q1_jobs_2023,q2_jobs_2023,q3_jobs_2023,q4_jobs_2023,q1_jobs_2024,q2_jobs_2024,q3_jobs_2024,q4_jobs_2024])"
   ]
  },
  {
   "cell_type": "code",
   "execution_count": 492,
   "id": "2ec7b42a-5baf-408b-ab48-f4e692c9fddc",
   "metadata": {},
   "outputs": [
    {
     "data": {
      "text/html": [
       "<div>\n",
       "<style scoped>\n",
       "    .dataframe tbody tr th:only-of-type {\n",
       "        vertical-align: middle;\n",
       "    }\n",
       "\n",
       "    .dataframe tbody tr th {\n",
       "        vertical-align: top;\n",
       "    }\n",
       "\n",
       "    .dataframe thead th {\n",
       "        text-align: right;\n",
       "    }\n",
       "</style>\n",
       "<table border=\"1\" class=\"dataframe\">\n",
       "  <thead>\n",
       "    <tr style=\"text-align: right;\">\n",
       "      <th></th>\n",
       "      <th>year</th>\n",
       "      <th>quarter</th>\n",
       "      <th>omp_customer_organization_id</th>\n",
       "      <th>omp_full_order_subtotal_base</th>\n",
       "    </tr>\n",
       "  </thead>\n",
       "  <tbody>\n",
       "    <tr>\n",
       "      <th>33</th>\n",
       "      <td>2023</td>\n",
       "      <td>1</td>\n",
       "      <td>M030-MORGO</td>\n",
       "      <td>2119290.9</td>\n",
       "    </tr>\n",
       "  </tbody>\n",
       "</table>\n",
       "</div>"
      ],
      "text/plain": [
       "    year  quarter omp_customer_organization_id  omp_full_order_subtotal_base\n",
       "33  2023        1                   M030-MORGO                     2119290.9"
      ]
     },
     "execution_count": 492,
     "metadata": {},
     "output_type": "execute_result"
    }
   ],
   "source": [
    "revenue.head(1)"
   ]
  },
  {
   "cell_type": "code",
   "execution_count": 510,
   "id": "7c9b586d-c628-47e6-8537-b6b5e3301a34",
   "metadata": {},
   "outputs": [],
   "source": [
    "hours['year_quarterly']= hours['year'] +' ' +'Q'+  hours['quarter'].astype('int').astype('str')"
   ]
  },
  {
   "cell_type": "code",
   "execution_count": 512,
   "id": "74065d82-2e41-4995-b0d3-ff2dbd78bfdb",
   "metadata": {},
   "outputs": [],
   "source": [
    "revenue['year_quarterly']= revenue['year'] +' ' +'Q'+  revenue['quarter'].astype('int').astype('str')"
   ]
  },
  {
   "cell_type": "code",
   "execution_count": 514,
   "id": "e15e79c8-97d1-4fc0-9705-eac54aea0b0e",
   "metadata": {},
   "outputs": [],
   "source": [
    "jobs['year_quarterly']= jobs['year'] +' ' +'Q'+  jobs['quarter'].astype('int').astype('str')"
   ]
  },
  {
   "cell_type": "code",
   "execution_count": 532,
   "id": "d19fe06f-bbe3-4cbf-b308-d1c46474ed5c",
   "metadata": {},
   "outputs": [
    {
     "data": {
      "text/plain": [
       "Text(0.5, 0, 'Year/Quarter')"
      ]
     },
     "execution_count": 532,
     "metadata": {},
     "output_type": "execute_result"
    },
    {
     "data": {
      "image/png": "[encoded data removed]",
      "text/plain": [
       "<Figure size 1000x600 with 1 Axes>"
      ]
     },
     "metadata": {},
     "output_type": "display_data"
    }
   ],
   "source": [
    "plt.figure(figsize=(10,6))\n",
    "\n",
    "sns.lineplot(data= hours, x = 'year_quarterly', y='total_actual_hours', hue = 'jmp_customer_organization_id')\n",
    "plt.legend(bbox_to_anchor=(1.05, 1), loc='upper left', borderaxespad=0);\n",
    "plt.title('Top 10 Customers By Hours')\n",
    "plt.ylabel('Total Hours')\n",
    "plt.xlabel('Year/Quarter')"
   ]
  },
  {
   "cell_type": "code",
   "execution_count": 534,
   "id": "cd2144c9-b214-4157-bb99-d7d77563334d",
   "metadata": {},
   "outputs": [
    {
     "data": {
      "text/plain": [
       "Text(0.5, 0, 'Year/Quarter')"
      ]
     },
     "execution_count": 534,
     "metadata": {},
     "output_type": "execute_result"
    },
    {
     "data": {
      "image/png": "[encoded data removed]",
      "text/plain": [
       "<Figure size 1000x600 with 1 Axes>"
      ]
     },
     "metadata": {},
     "output_type": "display_data"
    }
   ],
   "source": [
    "plt.figure(figsize=(10,6))\n",
    "\n",
    "sns.lineplot(data= jobs, x = 'year_quarterly', y='jmp_job_id', hue = 'jmp_customer_organization_id')\n",
    "plt.legend(bbox_to_anchor=(1.05, 1), loc='upper left', borderaxespad=0);\n",
    "plt.title('Top 10 Customers By Jobs')\n",
    "plt.ylabel('Total Jobs')\n",
    "plt.xlabel('Year/Quarter')"
   ]
  },
  {
   "cell_type": "code",
   "execution_count": 540,
   "id": "11799517-9a28-45bb-9da5-757e3d85ff94",
   "metadata": {},
   "outputs": [
    {
     "data": {
      "text/plain": [
       "Text(0.5, 0, 'Year/Quarter')"
      ]
     },
     "execution_count": 540,
     "metadata": {},
     "output_type": "execute_result"
    },
    {
     "data": {
      "image/png": "[encoded data removed]",
      "text/plain": [
       "<Figure size 1000x600 with 1 Axes>"
      ]
     },
     "metadata": {},
     "output_type": "display_data"
    }
   ],
   "source": [
    "plt.figure(figsize=(10,6))\n",
    "\n",
    "sns.lineplot(data= revenue, x = 'year_quarterly', y='omp_full_order_subtotal_base', hue = 'omp_customer_organization_id')\n",
    "plt.legend(bbox_to_anchor=(1.05, 1), loc='upper left', borderaxespad=0);\n",
    "plt.title('Top 10 Customers By Revenue')\n",
    "plt.ylabel('Total Revenue in Millions')\n",
    "plt.xlabel('Year/Quarter')"
   ]
  },
  {
   "cell_type": "code",
   "execution_count": 538,
   "id": "00206f31-b556-469b-a5c3-a224e4e19e26",
   "metadata": {},
   "outputs": [
    {
     "data": {
      "text/html": [
       "<div>\n",
       "<style scoped>\n",
       "    .dataframe tbody tr th:only-of-type {\n",
       "        vertical-align: middle;\n",
       "    }\n",
       "\n",
       "    .dataframe tbody tr th {\n",
       "        vertical-align: top;\n",
       "    }\n",
       "\n",
       "    .dataframe thead th {\n",
       "        text-align: right;\n",
       "    }\n",
       "</style>\n",
       "<table border=\"1\" class=\"dataframe\">\n",
       "  <thead>\n",
       "    <tr style=\"text-align: right;\">\n",
       "      <th></th>\n",
       "      <th>year</th>\n",
       "      <th>quarter</th>\n",
       "      <th>omp_customer_organization_id</th>\n",
       "      <th>omp_full_order_subtotal_base</th>\n",
       "      <th>year_quarterly</th>\n",
       "    </tr>\n",
       "  </thead>\n",
       "  <tbody>\n",
       "    <tr>\n",
       "      <th>33</th>\n",
       "      <td>2023</td>\n",
       "      <td>1</td>\n",
       "      <td>M030-MORGO</td>\n",
       "      <td>2119290.90</td>\n",
       "      <td>2023 Q1</td>\n",
       "    </tr>\n",
       "    <tr>\n",
       "      <th>52</th>\n",
       "      <td>2023</td>\n",
       "      <td>1</td>\n",
       "      <td>S039-SMI</td>\n",
       "      <td>1009881.24</td>\n",
       "      <td>2023 Q1</td>\n",
       "    </tr>\n",
       "    <tr>\n",
       "      <th>67</th>\n",
       "      <td>2023</td>\n",
       "      <td>1</td>\n",
       "      <td>Y002-YNGTC</td>\n",
       "      <td>899580.27</td>\n",
       "      <td>2023 Q1</td>\n",
       "    </tr>\n",
       "    <tr>\n",
       "      <th>17</th>\n",
       "      <td>2023</td>\n",
       "      <td>1</td>\n",
       "      <td>F022-F&amp;D</td>\n",
       "      <td>657841.42</td>\n",
       "      <td>2023 Q1</td>\n",
       "    </tr>\n",
       "    <tr>\n",
       "      <th>51</th>\n",
       "      <td>2023</td>\n",
       "      <td>1</td>\n",
       "      <td>S038-STLKI</td>\n",
       "      <td>327702.59</td>\n",
       "      <td>2023 Q1</td>\n",
       "    </tr>\n",
       "  </tbody>\n",
       "</table>\n",
       "</div>"
      ],
      "text/plain": [
       "    year  quarter omp_customer_organization_id  omp_full_order_subtotal_base  \\\n",
       "33  2023        1                   M030-MORGO                    2119290.90   \n",
       "52  2023        1                     S039-SMI                    1009881.24   \n",
       "67  2023        1                   Y002-YNGTC                     899580.27   \n",
       "17  2023        1                     F022-F&D                     657841.42   \n",
       "51  2023        1                   S038-STLKI                     327702.59   \n",
       "\n",
       "   year_quarterly  \n",
       "33        2023 Q1  \n",
       "52        2023 Q1  \n",
       "67        2023 Q1  \n",
       "17        2023 Q1  \n",
       "51        2023 Q1  "
      ]
     },
     "execution_count": 538,
     "metadata": {},
     "output_type": "execute_result"
    }
   ],
   "source": [
    "revenue.head(5)"
   ]
  },
  {
   "cell_type": "code",
   "execution_count": null,
   "id": "72be1767-967d-4ee1-a21c-a6e0f7ae6bd4",
   "metadata": {},
   "outputs": [],
   "source": []
  }
 ],
 "metadata": {
  "kernelspec": {
   "display_name": "Python 3 (ipykernel)",
   "language": "python",
   "name": "python3"
  },
  "language_info": {
   "codemirror_mode": {
    "name": "ipython",
    "version": 3
   },
   "file_extension": ".py",
   "mimetype": "text/x-python",
   "name": "python",
   "nbconvert_exporter": "python",
   "pygments_lexer": "ipython3",
   "version": "3.12.4"
  }
 },
 "nbformat": 4,
 "nbformat_minor": 5
}
